{
 "cells": [
  {
   "cell_type": "code",
   "execution_count": 1,
   "id": "d2062fca",
   "metadata": {
    "_cell_guid": "b1076dfc-b9ad-4769-8c92-a6c4dae69d19",
    "_uuid": "8f2839f25d086af736a60e9eeb907d3b93b6e0e5",
    "execution": {
     "iopub.execute_input": "2023-05-05T11:21:56.277914Z",
     "iopub.status.busy": "2023-05-05T11:21:56.277074Z",
     "iopub.status.idle": "2023-05-05T11:22:07.497684Z",
     "shell.execute_reply": "2023-05-05T11:22:07.496255Z"
    },
    "papermill": {
     "duration": 11.248483,
     "end_time": "2023-05-05T11:22:07.500790",
     "exception": false,
     "start_time": "2023-05-05T11:21:56.252307",
     "status": "completed"
    },
    "tags": []
   },
   "outputs": [],
   "source": [
    "#Import libs and frameworks\n",
    "import pandas as pd\n",
    "import numpy as np\n",
    "import seaborn as sb\n",
    "import matplotlib.pyplot as mp\n",
    "import copy\n",
    "from sklearn.metrics import r2_score, mean_squared_error\n",
    "from sklearn.model_selection import train_test_split\n",
    "from sklearn.preprocessing import MinMaxScaler\n",
    "from sklearn.linear_model import LinearRegression\n",
    "from sklearn.metrics import mean_squared_error as mse\n",
    "from sklearn.preprocessing import PolynomialFeatures\n",
    "from sklearn.ensemble import GradientBoostingRegressor, RandomForestRegressor\n",
    "from keras.models import Sequential\n",
    "from keras.layers import Dense, SimpleRNN, LSTM, BatchNormalization, Dropout\n",
    "from keras.optimizers import Adam\n",
    "import seaborn as sns\n",
    "import matplotlib.pyplot as plt\n",
    "import xgboost as xgb\n",
    "from xgboost import plot_importance, plot_tree\n",
    "from sklearn.neural_network import MLPRegressor\n",
    "from sklearn.tree import DecisionTreeRegressor\n",
    "from sklearn.svm import SVR\n",
    "from sklearn.pipeline import make_pipeline\n",
    "from sklearn.preprocessing import StandardScaler\n",
    "from scipy.stats import pearsonr\n",
    "from sklearn.model_selection import GridSearchCV\n",
    "\n",
    "#Remove warning\n",
    "import warnings\n",
    "warnings.filterwarnings('ignore')"
   ]
  },
  {
   "cell_type": "markdown",
   "id": "55393c30",
   "metadata": {
    "papermill": {
     "duration": 0.020228,
     "end_time": "2023-05-05T11:22:07.540244",
     "exception": false,
     "start_time": "2023-05-05T11:22:07.520016",
     "status": "completed"
    },
    "tags": []
   },
   "source": [
    "# Import dataset"
   ]
  },
  {
   "cell_type": "code",
   "execution_count": 2,
   "id": "6a6727d4",
   "metadata": {
    "execution": {
     "iopub.execute_input": "2023-05-05T11:22:07.581065Z",
     "iopub.status.busy": "2023-05-05T11:22:07.580122Z",
     "iopub.status.idle": "2023-05-05T11:22:09.458011Z",
     "shell.execute_reply": "2023-05-05T11:22:09.456806Z"
    },
    "papermill": {
     "duration": 1.901862,
     "end_time": "2023-05-05T11:22:09.461201",
     "exception": false,
     "start_time": "2023-05-05T11:22:07.559339",
     "status": "completed"
    },
    "tags": []
   },
   "outputs": [],
   "source": [
    "'''\n",
    "Bọn em đã chuyển đổi từ .xlsx sang .csv do pandas đọc csv nhanh hơn xlsv rất nhiều\n",
    "'''\n",
    "data9_df = pd.read_csv(\"/kaggle/input/dataset1-radar-csv/data_match9.csv\")\n",
    "data10_df = pd.read_csv(\"/kaggle/input/dataset1-radar-csv/data_match10.csv\")"
   ]
  },
  {
   "cell_type": "code",
   "execution_count": 3,
   "id": "aca2c887",
   "metadata": {
    "execution": {
     "iopub.execute_input": "2023-05-05T11:22:09.501450Z",
     "iopub.status.busy": "2023-05-05T11:22:09.500984Z",
     "iopub.status.idle": "2023-05-05T11:22:09.588793Z",
     "shell.execute_reply": "2023-05-05T11:22:09.587535Z"
    },
    "papermill": {
     "duration": 0.111803,
     "end_time": "2023-05-05T11:22:09.592147",
     "exception": false,
     "start_time": "2023-05-05T11:22:09.480344",
     "status": "completed"
    },
    "tags": []
   },
   "outputs": [
    {
     "data": {
      "text/html": [
       "<div>\n",
       "<style scoped>\n",
       "    .dataframe tbody tr th:only-of-type {\n",
       "        vertical-align: middle;\n",
       "    }\n",
       "\n",
       "    .dataframe tbody tr th {\n",
       "        vertical-align: top;\n",
       "    }\n",
       "\n",
       "    .dataframe thead th {\n",
       "        text-align: right;\n",
       "    }\n",
       "</style>\n",
       "<table border=\"1\" class=\"dataframe\">\n",
       "  <thead>\n",
       "    <tr style=\"text-align: right;\">\n",
       "      <th></th>\n",
       "      <th>id</th>\n",
       "      <th>name</th>\n",
       "      <th>lat</th>\n",
       "      <th>lon</th>\n",
       "      <th>value</th>\n",
       "      <th>datetime</th>\n",
       "      <th>B04B</th>\n",
       "      <th>B05B</th>\n",
       "      <th>B06B</th>\n",
       "      <th>B09B</th>\n",
       "      <th>...</th>\n",
       "      <th>I2B</th>\n",
       "      <th>I4B</th>\n",
       "      <th>IRB</th>\n",
       "      <th>VSB</th>\n",
       "      <th>WVB</th>\n",
       "      <th>CAPE</th>\n",
       "      <th>TCC</th>\n",
       "      <th>TCW</th>\n",
       "      <th>TCWV</th>\n",
       "      <th>IMERG</th>\n",
       "    </tr>\n",
       "  </thead>\n",
       "  <tbody>\n",
       "    <tr>\n",
       "      <th>0</th>\n",
       "      <td>116673.0</td>\n",
       "      <td>TanTruong</td>\n",
       "      <td>19.370885</td>\n",
       "      <td>105.654165</td>\n",
       "      <td>2.4</td>\n",
       "      <td>2019-09-01 00:00:00</td>\n",
       "      <td>NaN</td>\n",
       "      <td>NaN</td>\n",
       "      <td>NaN</td>\n",
       "      <td>NaN</td>\n",
       "      <td>...</td>\n",
       "      <td>NaN</td>\n",
       "      <td>NaN</td>\n",
       "      <td>NaN</td>\n",
       "      <td>NaN</td>\n",
       "      <td>NaN</td>\n",
       "      <td>25.2500</td>\n",
       "      <td>1.000003</td>\n",
       "      <td>64.852661</td>\n",
       "      <td>64.672195</td>\n",
       "      <td>0.151356</td>\n",
       "    </tr>\n",
       "    <tr>\n",
       "      <th>1</th>\n",
       "      <td>116673.0</td>\n",
       "      <td>TanTruong</td>\n",
       "      <td>19.370885</td>\n",
       "      <td>105.654165</td>\n",
       "      <td>0.0</td>\n",
       "      <td>2019-09-01 07:00:00</td>\n",
       "      <td>NaN</td>\n",
       "      <td>NaN</td>\n",
       "      <td>NaN</td>\n",
       "      <td>NaN</td>\n",
       "      <td>...</td>\n",
       "      <td>NaN</td>\n",
       "      <td>NaN</td>\n",
       "      <td>NaN</td>\n",
       "      <td>NaN</td>\n",
       "      <td>NaN</td>\n",
       "      <td>178.1875</td>\n",
       "      <td>1.000002</td>\n",
       "      <td>69.277817</td>\n",
       "      <td>68.070160</td>\n",
       "      <td>3.767498</td>\n",
       "    </tr>\n",
       "    <tr>\n",
       "      <th>2</th>\n",
       "      <td>116673.0</td>\n",
       "      <td>TanTruong</td>\n",
       "      <td>19.370885</td>\n",
       "      <td>105.654165</td>\n",
       "      <td>0.0</td>\n",
       "      <td>2019-09-01 08:00:00</td>\n",
       "      <td>NaN</td>\n",
       "      <td>NaN</td>\n",
       "      <td>NaN</td>\n",
       "      <td>NaN</td>\n",
       "      <td>...</td>\n",
       "      <td>NaN</td>\n",
       "      <td>NaN</td>\n",
       "      <td>NaN</td>\n",
       "      <td>NaN</td>\n",
       "      <td>NaN</td>\n",
       "      <td>98.2500</td>\n",
       "      <td>0.999998</td>\n",
       "      <td>68.917984</td>\n",
       "      <td>67.623199</td>\n",
       "      <td>3.938313</td>\n",
       "    </tr>\n",
       "    <tr>\n",
       "      <th>3</th>\n",
       "      <td>116673.0</td>\n",
       "      <td>TanTruong</td>\n",
       "      <td>19.370885</td>\n",
       "      <td>105.654165</td>\n",
       "      <td>0.0</td>\n",
       "      <td>2019-09-01 09:00:00</td>\n",
       "      <td>NaN</td>\n",
       "      <td>NaN</td>\n",
       "      <td>NaN</td>\n",
       "      <td>NaN</td>\n",
       "      <td>...</td>\n",
       "      <td>NaN</td>\n",
       "      <td>NaN</td>\n",
       "      <td>NaN</td>\n",
       "      <td>NaN</td>\n",
       "      <td>NaN</td>\n",
       "      <td>100.6875</td>\n",
       "      <td>1.000001</td>\n",
       "      <td>69.386337</td>\n",
       "      <td>68.394302</td>\n",
       "      <td>6.779099</td>\n",
       "    </tr>\n",
       "    <tr>\n",
       "      <th>4</th>\n",
       "      <td>116673.0</td>\n",
       "      <td>TanTruong</td>\n",
       "      <td>19.370885</td>\n",
       "      <td>105.654165</td>\n",
       "      <td>0.0</td>\n",
       "      <td>2019-09-01 10:00:00</td>\n",
       "      <td>NaN</td>\n",
       "      <td>NaN</td>\n",
       "      <td>NaN</td>\n",
       "      <td>NaN</td>\n",
       "      <td>...</td>\n",
       "      <td>NaN</td>\n",
       "      <td>NaN</td>\n",
       "      <td>NaN</td>\n",
       "      <td>NaN</td>\n",
       "      <td>NaN</td>\n",
       "      <td>103.3750</td>\n",
       "      <td>1.000004</td>\n",
       "      <td>69.258972</td>\n",
       "      <td>68.883392</td>\n",
       "      <td>11.281171</td>\n",
       "    </tr>\n",
       "    <tr>\n",
       "      <th>...</th>\n",
       "      <td>...</td>\n",
       "      <td>...</td>\n",
       "      <td>...</td>\n",
       "      <td>...</td>\n",
       "      <td>...</td>\n",
       "      <td>...</td>\n",
       "      <td>...</td>\n",
       "      <td>...</td>\n",
       "      <td>...</td>\n",
       "      <td>...</td>\n",
       "      <td>...</td>\n",
       "      <td>...</td>\n",
       "      <td>...</td>\n",
       "      <td>...</td>\n",
       "      <td>...</td>\n",
       "      <td>...</td>\n",
       "      <td>...</td>\n",
       "      <td>...</td>\n",
       "      <td>...</td>\n",
       "      <td>...</td>\n",
       "      <td>...</td>\n",
       "    </tr>\n",
       "    <tr>\n",
       "      <th>94909</th>\n",
       "      <td>ARG051</td>\n",
       "      <td>Muong Lat</td>\n",
       "      <td>20.532130</td>\n",
       "      <td>104.497900</td>\n",
       "      <td>0.0</td>\n",
       "      <td>2019-09-30 19:00:00</td>\n",
       "      <td>0.000000</td>\n",
       "      <td>0.000000</td>\n",
       "      <td>0.000000</td>\n",
       "      <td>252.025131</td>\n",
       "      <td>...</td>\n",
       "      <td>287.246948</td>\n",
       "      <td>289.799957</td>\n",
       "      <td>289.844177</td>\n",
       "      <td>0.000000</td>\n",
       "      <td>241.488937</td>\n",
       "      <td>0.0000</td>\n",
       "      <td>0.032684</td>\n",
       "      <td>29.050735</td>\n",
       "      <td>29.043701</td>\n",
       "      <td>0.000000</td>\n",
       "    </tr>\n",
       "    <tr>\n",
       "      <th>94910</th>\n",
       "      <td>ARG051</td>\n",
       "      <td>Muong Lat</td>\n",
       "      <td>20.532130</td>\n",
       "      <td>104.497900</td>\n",
       "      <td>0.0</td>\n",
       "      <td>2019-09-30 20:00:00</td>\n",
       "      <td>0.000000</td>\n",
       "      <td>0.000000</td>\n",
       "      <td>0.000000</td>\n",
       "      <td>251.509811</td>\n",
       "      <td>...</td>\n",
       "      <td>287.541168</td>\n",
       "      <td>289.384125</td>\n",
       "      <td>289.816071</td>\n",
       "      <td>0.000000</td>\n",
       "      <td>240.855423</td>\n",
       "      <td>0.0000</td>\n",
       "      <td>0.059967</td>\n",
       "      <td>29.342560</td>\n",
       "      <td>29.332611</td>\n",
       "      <td>0.000000</td>\n",
       "    </tr>\n",
       "    <tr>\n",
       "      <th>94911</th>\n",
       "      <td>ARG051</td>\n",
       "      <td>Muong Lat</td>\n",
       "      <td>20.532130</td>\n",
       "      <td>104.497900</td>\n",
       "      <td>0.0</td>\n",
       "      <td>2019-09-30 21:00:00</td>\n",
       "      <td>0.000000</td>\n",
       "      <td>0.000000</td>\n",
       "      <td>0.000000</td>\n",
       "      <td>251.352982</td>\n",
       "      <td>...</td>\n",
       "      <td>287.265533</td>\n",
       "      <td>288.940186</td>\n",
       "      <td>289.785553</td>\n",
       "      <td>0.000000</td>\n",
       "      <td>240.755707</td>\n",
       "      <td>0.0000</td>\n",
       "      <td>0.061554</td>\n",
       "      <td>29.333771</td>\n",
       "      <td>29.324005</td>\n",
       "      <td>0.000000</td>\n",
       "    </tr>\n",
       "    <tr>\n",
       "      <th>94912</th>\n",
       "      <td>ARG051</td>\n",
       "      <td>Muong Lat</td>\n",
       "      <td>20.532130</td>\n",
       "      <td>104.497900</td>\n",
       "      <td>0.0</td>\n",
       "      <td>2019-09-30 22:00:00</td>\n",
       "      <td>0.000391</td>\n",
       "      <td>0.000000</td>\n",
       "      <td>0.000000</td>\n",
       "      <td>250.246902</td>\n",
       "      <td>...</td>\n",
       "      <td>287.045563</td>\n",
       "      <td>288.297974</td>\n",
       "      <td>289.394928</td>\n",
       "      <td>0.000326</td>\n",
       "      <td>240.185898</td>\n",
       "      <td>0.0000</td>\n",
       "      <td>0.072815</td>\n",
       "      <td>29.282516</td>\n",
       "      <td>29.276657</td>\n",
       "      <td>0.000000</td>\n",
       "    </tr>\n",
       "    <tr>\n",
       "      <th>94913</th>\n",
       "      <td>ARG051</td>\n",
       "      <td>Muong Lat</td>\n",
       "      <td>20.532130</td>\n",
       "      <td>104.497900</td>\n",
       "      <td>0.0</td>\n",
       "      <td>2019-09-30 23:00:00</td>\n",
       "      <td>0.054091</td>\n",
       "      <td>0.038934</td>\n",
       "      <td>0.014635</td>\n",
       "      <td>249.836975</td>\n",
       "      <td>...</td>\n",
       "      <td>286.769867</td>\n",
       "      <td>289.368378</td>\n",
       "      <td>289.358185</td>\n",
       "      <td>0.028863</td>\n",
       "      <td>239.680008</td>\n",
       "      <td>0.0000</td>\n",
       "      <td>0.024200</td>\n",
       "      <td>29.068146</td>\n",
       "      <td>29.063263</td>\n",
       "      <td>0.000000</td>\n",
       "    </tr>\n",
       "  </tbody>\n",
       "</table>\n",
       "<p>94914 rows × 25 columns</p>\n",
       "</div>"
      ],
      "text/plain": [
       "             id       name        lat         lon  value             datetime  \\\n",
       "0      116673.0  TanTruong  19.370885  105.654165    2.4  2019-09-01 00:00:00   \n",
       "1      116673.0  TanTruong  19.370885  105.654165    0.0  2019-09-01 07:00:00   \n",
       "2      116673.0  TanTruong  19.370885  105.654165    0.0  2019-09-01 08:00:00   \n",
       "3      116673.0  TanTruong  19.370885  105.654165    0.0  2019-09-01 09:00:00   \n",
       "4      116673.0  TanTruong  19.370885  105.654165    0.0  2019-09-01 10:00:00   \n",
       "...         ...        ...        ...         ...    ...                  ...   \n",
       "94909    ARG051  Muong Lat  20.532130  104.497900    0.0  2019-09-30 19:00:00   \n",
       "94910    ARG051  Muong Lat  20.532130  104.497900    0.0  2019-09-30 20:00:00   \n",
       "94911    ARG051  Muong Lat  20.532130  104.497900    0.0  2019-09-30 21:00:00   \n",
       "94912    ARG051  Muong Lat  20.532130  104.497900    0.0  2019-09-30 22:00:00   \n",
       "94913    ARG051  Muong Lat  20.532130  104.497900    0.0  2019-09-30 23:00:00   \n",
       "\n",
       "           B04B      B05B      B06B        B09B  ...         I2B         I4B  \\\n",
       "0           NaN       NaN       NaN         NaN  ...         NaN         NaN   \n",
       "1           NaN       NaN       NaN         NaN  ...         NaN         NaN   \n",
       "2           NaN       NaN       NaN         NaN  ...         NaN         NaN   \n",
       "3           NaN       NaN       NaN         NaN  ...         NaN         NaN   \n",
       "4           NaN       NaN       NaN         NaN  ...         NaN         NaN   \n",
       "...         ...       ...       ...         ...  ...         ...         ...   \n",
       "94909  0.000000  0.000000  0.000000  252.025131  ...  287.246948  289.799957   \n",
       "94910  0.000000  0.000000  0.000000  251.509811  ...  287.541168  289.384125   \n",
       "94911  0.000000  0.000000  0.000000  251.352982  ...  287.265533  288.940186   \n",
       "94912  0.000391  0.000000  0.000000  250.246902  ...  287.045563  288.297974   \n",
       "94913  0.054091  0.038934  0.014635  249.836975  ...  286.769867  289.368378   \n",
       "\n",
       "              IRB       VSB         WVB      CAPE       TCC        TCW  \\\n",
       "0             NaN       NaN         NaN   25.2500  1.000003  64.852661   \n",
       "1             NaN       NaN         NaN  178.1875  1.000002  69.277817   \n",
       "2             NaN       NaN         NaN   98.2500  0.999998  68.917984   \n",
       "3             NaN       NaN         NaN  100.6875  1.000001  69.386337   \n",
       "4             NaN       NaN         NaN  103.3750  1.000004  69.258972   \n",
       "...           ...       ...         ...       ...       ...        ...   \n",
       "94909  289.844177  0.000000  241.488937    0.0000  0.032684  29.050735   \n",
       "94910  289.816071  0.000000  240.855423    0.0000  0.059967  29.342560   \n",
       "94911  289.785553  0.000000  240.755707    0.0000  0.061554  29.333771   \n",
       "94912  289.394928  0.000326  240.185898    0.0000  0.072815  29.282516   \n",
       "94913  289.358185  0.028863  239.680008    0.0000  0.024200  29.068146   \n",
       "\n",
       "            TCWV      IMERG  \n",
       "0      64.672195   0.151356  \n",
       "1      68.070160   3.767498  \n",
       "2      67.623199   3.938313  \n",
       "3      68.394302   6.779099  \n",
       "4      68.883392  11.281171  \n",
       "...          ...        ...  \n",
       "94909  29.043701   0.000000  \n",
       "94910  29.332611   0.000000  \n",
       "94911  29.324005   0.000000  \n",
       "94912  29.276657   0.000000  \n",
       "94913  29.063263   0.000000  \n",
       "\n",
       "[94914 rows x 25 columns]"
      ]
     },
     "execution_count": 3,
     "metadata": {},
     "output_type": "execute_result"
    }
   ],
   "source": [
    "# Preview the data\n",
    "data9_df"
   ]
  },
  {
   "cell_type": "code",
   "execution_count": 4,
   "id": "811c3658",
   "metadata": {
    "execution": {
     "iopub.execute_input": "2023-05-05T11:22:09.633525Z",
     "iopub.status.busy": "2023-05-05T11:22:09.633120Z",
     "iopub.status.idle": "2023-05-05T11:22:09.847865Z",
     "shell.execute_reply": "2023-05-05T11:22:09.846287Z"
    },
    "papermill": {
     "duration": 0.238732,
     "end_time": "2023-05-05T11:22:09.850650",
     "exception": false,
     "start_time": "2023-05-05T11:22:09.611918",
     "status": "completed"
    },
    "tags": []
   },
   "outputs": [
    {
     "name": "stdout",
     "output_type": "stream",
     "text": [
      "RangeIndex(start=0, stop=161936, step=1)\n"
     ]
    }
   ],
   "source": [
    "# Loại bỏ NaN và nối 2 dataset làm 1\n",
    "data9_df.dropna(inplace=True)\n",
    "data9_df.reset_index(drop=True, inplace=True)\n",
    "\n",
    "data10_df.dropna(inplace=True)\n",
    "data10_df.reset_index(drop=True, inplace=True)\n",
    "data_df = pd.concat([data9_df, data10_df])\n",
    "# data_df.index = range(1,172541)\n",
    "data_df.reset_index(drop=True, inplace=True)\n",
    "print(data_df.index)\n",
    "\n",
    "# Add datetime to data_df\n",
    "data_df['datetime']=pd.to_datetime(data_df['datetime'])\n",
    "data_df['day'] = data_df['datetime'].dt.day\n",
    "data_df['month']= data_df['datetime'].dt.month\n",
    "data_df['year']= data_df['datetime'].dt.year\n",
    "data_df['hour']= data_df['datetime'].dt.hour"
   ]
  },
  {
   "cell_type": "code",
   "execution_count": 5,
   "id": "633ef0d9",
   "metadata": {
    "execution": {
     "iopub.execute_input": "2023-05-05T11:22:09.892032Z",
     "iopub.status.busy": "2023-05-05T11:22:09.891632Z",
     "iopub.status.idle": "2023-05-05T11:22:10.005303Z",
     "shell.execute_reply": "2023-05-05T11:22:10.003743Z"
    },
    "papermill": {
     "duration": 0.137417,
     "end_time": "2023-05-05T11:22:10.008050",
     "exception": false,
     "start_time": "2023-05-05T11:22:09.870633",
     "status": "completed"
    },
    "tags": []
   },
   "outputs": [
    {
     "data": {
      "text/html": [
       "<div>\n",
       "<style scoped>\n",
       "    .dataframe tbody tr th:only-of-type {\n",
       "        vertical-align: middle;\n",
       "    }\n",
       "\n",
       "    .dataframe tbody tr th {\n",
       "        vertical-align: top;\n",
       "    }\n",
       "\n",
       "    .dataframe thead th {\n",
       "        text-align: right;\n",
       "    }\n",
       "</style>\n",
       "<table border=\"1\" class=\"dataframe\">\n",
       "  <thead>\n",
       "    <tr style=\"text-align: right;\">\n",
       "      <th></th>\n",
       "      <th>id</th>\n",
       "      <th>name</th>\n",
       "      <th>lat</th>\n",
       "      <th>lon</th>\n",
       "      <th>value</th>\n",
       "      <th>datetime</th>\n",
       "      <th>B04B</th>\n",
       "      <th>B05B</th>\n",
       "      <th>B06B</th>\n",
       "      <th>B09B</th>\n",
       "      <th>...</th>\n",
       "      <th>WVB</th>\n",
       "      <th>CAPE</th>\n",
       "      <th>TCC</th>\n",
       "      <th>TCW</th>\n",
       "      <th>TCWV</th>\n",
       "      <th>IMERG</th>\n",
       "      <th>day</th>\n",
       "      <th>month</th>\n",
       "      <th>year</th>\n",
       "      <th>hour</th>\n",
       "    </tr>\n",
       "  </thead>\n",
       "  <tbody>\n",
       "    <tr>\n",
       "      <th>0</th>\n",
       "      <td>116673.0</td>\n",
       "      <td>TanTruong</td>\n",
       "      <td>19.370885</td>\n",
       "      <td>105.654165</td>\n",
       "      <td>1.8</td>\n",
       "      <td>2019-09-02 00:00:00</td>\n",
       "      <td>0.329821</td>\n",
       "      <td>0.112489</td>\n",
       "      <td>0.140388</td>\n",
       "      <td>209.438599</td>\n",
       "      <td>...</td>\n",
       "      <td>208.627686</td>\n",
       "      <td>85.437500</td>\n",
       "      <td>0.999995</td>\n",
       "      <td>66.224197</td>\n",
       "      <td>64.789810</td>\n",
       "      <td>3.138512</td>\n",
       "      <td>2</td>\n",
       "      <td>9</td>\n",
       "      <td>2019</td>\n",
       "      <td>0</td>\n",
       "    </tr>\n",
       "    <tr>\n",
       "      <th>1</th>\n",
       "      <td>116673.0</td>\n",
       "      <td>TanTruong</td>\n",
       "      <td>19.370885</td>\n",
       "      <td>105.654165</td>\n",
       "      <td>0.0</td>\n",
       "      <td>2019-09-02 06:00:00</td>\n",
       "      <td>0.456792</td>\n",
       "      <td>0.236232</td>\n",
       "      <td>0.256110</td>\n",
       "      <td>216.826859</td>\n",
       "      <td>...</td>\n",
       "      <td>214.086929</td>\n",
       "      <td>162.062500</td>\n",
       "      <td>0.986037</td>\n",
       "      <td>59.914459</td>\n",
       "      <td>59.660736</td>\n",
       "      <td>0.010731</td>\n",
       "      <td>2</td>\n",
       "      <td>9</td>\n",
       "      <td>2019</td>\n",
       "      <td>6</td>\n",
       "    </tr>\n",
       "    <tr>\n",
       "      <th>2</th>\n",
       "      <td>116673.0</td>\n",
       "      <td>TanTruong</td>\n",
       "      <td>19.370885</td>\n",
       "      <td>105.654165</td>\n",
       "      <td>0.0</td>\n",
       "      <td>2019-09-02 07:00:00</td>\n",
       "      <td>0.224721</td>\n",
       "      <td>0.104665</td>\n",
       "      <td>0.082116</td>\n",
       "      <td>241.436462</td>\n",
       "      <td>...</td>\n",
       "      <td>232.445724</td>\n",
       "      <td>121.125000</td>\n",
       "      <td>0.944113</td>\n",
       "      <td>59.892532</td>\n",
       "      <td>59.595276</td>\n",
       "      <td>2.905275</td>\n",
       "      <td>2</td>\n",
       "      <td>9</td>\n",
       "      <td>2019</td>\n",
       "      <td>7</td>\n",
       "    </tr>\n",
       "    <tr>\n",
       "      <th>3</th>\n",
       "      <td>116673.0</td>\n",
       "      <td>TanTruong</td>\n",
       "      <td>19.370885</td>\n",
       "      <td>105.654165</td>\n",
       "      <td>0.0</td>\n",
       "      <td>2019-09-02 08:00:00</td>\n",
       "      <td>0.289399</td>\n",
       "      <td>0.190360</td>\n",
       "      <td>0.150457</td>\n",
       "      <td>240.614517</td>\n",
       "      <td>...</td>\n",
       "      <td>231.490646</td>\n",
       "      <td>316.693573</td>\n",
       "      <td>0.989312</td>\n",
       "      <td>61.431885</td>\n",
       "      <td>61.168030</td>\n",
       "      <td>0.200322</td>\n",
       "      <td>2</td>\n",
       "      <td>9</td>\n",
       "      <td>2019</td>\n",
       "      <td>8</td>\n",
       "    </tr>\n",
       "    <tr>\n",
       "      <th>4</th>\n",
       "      <td>116673.0</td>\n",
       "      <td>TanTruong</td>\n",
       "      <td>19.370885</td>\n",
       "      <td>105.654165</td>\n",
       "      <td>0.0</td>\n",
       "      <td>2019-09-02 09:00:00</td>\n",
       "      <td>0.340962</td>\n",
       "      <td>0.246714</td>\n",
       "      <td>0.200930</td>\n",
       "      <td>235.812988</td>\n",
       "      <td>...</td>\n",
       "      <td>227.855331</td>\n",
       "      <td>477.137512</td>\n",
       "      <td>0.989366</td>\n",
       "      <td>62.994766</td>\n",
       "      <td>62.623108</td>\n",
       "      <td>0.417813</td>\n",
       "      <td>2</td>\n",
       "      <td>9</td>\n",
       "      <td>2019</td>\n",
       "      <td>9</td>\n",
       "    </tr>\n",
       "    <tr>\n",
       "      <th>...</th>\n",
       "      <td>...</td>\n",
       "      <td>...</td>\n",
       "      <td>...</td>\n",
       "      <td>...</td>\n",
       "      <td>...</td>\n",
       "      <td>...</td>\n",
       "      <td>...</td>\n",
       "      <td>...</td>\n",
       "      <td>...</td>\n",
       "      <td>...</td>\n",
       "      <td>...</td>\n",
       "      <td>...</td>\n",
       "      <td>...</td>\n",
       "      <td>...</td>\n",
       "      <td>...</td>\n",
       "      <td>...</td>\n",
       "      <td>...</td>\n",
       "      <td>...</td>\n",
       "      <td>...</td>\n",
       "      <td>...</td>\n",
       "      <td>...</td>\n",
       "    </tr>\n",
       "    <tr>\n",
       "      <th>161931</th>\n",
       "      <td>ARG051</td>\n",
       "      <td>Muong Lat</td>\n",
       "      <td>20.532130</td>\n",
       "      <td>104.497900</td>\n",
       "      <td>0.0</td>\n",
       "      <td>2019-10-30 19:00:00</td>\n",
       "      <td>0.000000</td>\n",
       "      <td>0.000000</td>\n",
       "      <td>0.000000</td>\n",
       "      <td>240.928909</td>\n",
       "      <td>...</td>\n",
       "      <td>232.205475</td>\n",
       "      <td>0.000000</td>\n",
       "      <td>1.000000</td>\n",
       "      <td>13.110395</td>\n",
       "      <td>13.105123</td>\n",
       "      <td>0.000000</td>\n",
       "      <td>30</td>\n",
       "      <td>10</td>\n",
       "      <td>2019</td>\n",
       "      <td>19</td>\n",
       "    </tr>\n",
       "    <tr>\n",
       "      <th>161932</th>\n",
       "      <td>ARG051</td>\n",
       "      <td>Muong Lat</td>\n",
       "      <td>20.532130</td>\n",
       "      <td>104.497900</td>\n",
       "      <td>0.0</td>\n",
       "      <td>2019-10-30 20:00:00</td>\n",
       "      <td>0.000000</td>\n",
       "      <td>0.000000</td>\n",
       "      <td>0.000000</td>\n",
       "      <td>236.396774</td>\n",
       "      <td>...</td>\n",
       "      <td>229.200882</td>\n",
       "      <td>0.000000</td>\n",
       "      <td>1.000000</td>\n",
       "      <td>12.757570</td>\n",
       "      <td>12.751515</td>\n",
       "      <td>0.000000</td>\n",
       "      <td>30</td>\n",
       "      <td>10</td>\n",
       "      <td>2019</td>\n",
       "      <td>20</td>\n",
       "    </tr>\n",
       "    <tr>\n",
       "      <th>161933</th>\n",
       "      <td>ARG051</td>\n",
       "      <td>Muong Lat</td>\n",
       "      <td>20.532130</td>\n",
       "      <td>104.497900</td>\n",
       "      <td>0.0</td>\n",
       "      <td>2019-10-30 21:00:00</td>\n",
       "      <td>0.000000</td>\n",
       "      <td>0.000000</td>\n",
       "      <td>0.000000</td>\n",
       "      <td>228.068314</td>\n",
       "      <td>...</td>\n",
       "      <td>223.207443</td>\n",
       "      <td>0.000000</td>\n",
       "      <td>1.000000</td>\n",
       "      <td>13.127382</td>\n",
       "      <td>13.119375</td>\n",
       "      <td>1.764320</td>\n",
       "      <td>30</td>\n",
       "      <td>10</td>\n",
       "      <td>2019</td>\n",
       "      <td>21</td>\n",
       "    </tr>\n",
       "    <tr>\n",
       "      <th>161934</th>\n",
       "      <td>ARG051</td>\n",
       "      <td>Muong Lat</td>\n",
       "      <td>20.532130</td>\n",
       "      <td>104.497900</td>\n",
       "      <td>0.0</td>\n",
       "      <td>2019-10-30 22:00:00</td>\n",
       "      <td>0.000000</td>\n",
       "      <td>0.000000</td>\n",
       "      <td>0.000000</td>\n",
       "      <td>235.448730</td>\n",
       "      <td>...</td>\n",
       "      <td>227.895142</td>\n",
       "      <td>0.000000</td>\n",
       "      <td>1.000000</td>\n",
       "      <td>13.871017</td>\n",
       "      <td>13.864963</td>\n",
       "      <td>0.000000</td>\n",
       "      <td>30</td>\n",
       "      <td>10</td>\n",
       "      <td>2019</td>\n",
       "      <td>22</td>\n",
       "    </tr>\n",
       "    <tr>\n",
       "      <th>161935</th>\n",
       "      <td>ARG051</td>\n",
       "      <td>Muong Lat</td>\n",
       "      <td>20.532130</td>\n",
       "      <td>104.497900</td>\n",
       "      <td>0.0</td>\n",
       "      <td>2019-10-30 23:00:00</td>\n",
       "      <td>0.046517</td>\n",
       "      <td>0.028804</td>\n",
       "      <td>0.019681</td>\n",
       "      <td>235.672562</td>\n",
       "      <td>...</td>\n",
       "      <td>228.602707</td>\n",
       "      <td>0.000000</td>\n",
       "      <td>1.000000</td>\n",
       "      <td>15.044562</td>\n",
       "      <td>15.037726</td>\n",
       "      <td>0.000000</td>\n",
       "      <td>30</td>\n",
       "      <td>10</td>\n",
       "      <td>2019</td>\n",
       "      <td>23</td>\n",
       "    </tr>\n",
       "  </tbody>\n",
       "</table>\n",
       "<p>161936 rows × 29 columns</p>\n",
       "</div>"
      ],
      "text/plain": [
       "              id       name        lat         lon  value            datetime  \\\n",
       "0       116673.0  TanTruong  19.370885  105.654165    1.8 2019-09-02 00:00:00   \n",
       "1       116673.0  TanTruong  19.370885  105.654165    0.0 2019-09-02 06:00:00   \n",
       "2       116673.0  TanTruong  19.370885  105.654165    0.0 2019-09-02 07:00:00   \n",
       "3       116673.0  TanTruong  19.370885  105.654165    0.0 2019-09-02 08:00:00   \n",
       "4       116673.0  TanTruong  19.370885  105.654165    0.0 2019-09-02 09:00:00   \n",
       "...          ...        ...        ...         ...    ...                 ...   \n",
       "161931    ARG051  Muong Lat  20.532130  104.497900    0.0 2019-10-30 19:00:00   \n",
       "161932    ARG051  Muong Lat  20.532130  104.497900    0.0 2019-10-30 20:00:00   \n",
       "161933    ARG051  Muong Lat  20.532130  104.497900    0.0 2019-10-30 21:00:00   \n",
       "161934    ARG051  Muong Lat  20.532130  104.497900    0.0 2019-10-30 22:00:00   \n",
       "161935    ARG051  Muong Lat  20.532130  104.497900    0.0 2019-10-30 23:00:00   \n",
       "\n",
       "            B04B      B05B      B06B        B09B  ...         WVB        CAPE  \\\n",
       "0       0.329821  0.112489  0.140388  209.438599  ...  208.627686   85.437500   \n",
       "1       0.456792  0.236232  0.256110  216.826859  ...  214.086929  162.062500   \n",
       "2       0.224721  0.104665  0.082116  241.436462  ...  232.445724  121.125000   \n",
       "3       0.289399  0.190360  0.150457  240.614517  ...  231.490646  316.693573   \n",
       "4       0.340962  0.246714  0.200930  235.812988  ...  227.855331  477.137512   \n",
       "...          ...       ...       ...         ...  ...         ...         ...   \n",
       "161931  0.000000  0.000000  0.000000  240.928909  ...  232.205475    0.000000   \n",
       "161932  0.000000  0.000000  0.000000  236.396774  ...  229.200882    0.000000   \n",
       "161933  0.000000  0.000000  0.000000  228.068314  ...  223.207443    0.000000   \n",
       "161934  0.000000  0.000000  0.000000  235.448730  ...  227.895142    0.000000   \n",
       "161935  0.046517  0.028804  0.019681  235.672562  ...  228.602707    0.000000   \n",
       "\n",
       "             TCC        TCW       TCWV     IMERG  day  month  year  hour  \n",
       "0       0.999995  66.224197  64.789810  3.138512    2      9  2019     0  \n",
       "1       0.986037  59.914459  59.660736  0.010731    2      9  2019     6  \n",
       "2       0.944113  59.892532  59.595276  2.905275    2      9  2019     7  \n",
       "3       0.989312  61.431885  61.168030  0.200322    2      9  2019     8  \n",
       "4       0.989366  62.994766  62.623108  0.417813    2      9  2019     9  \n",
       "...          ...        ...        ...       ...  ...    ...   ...   ...  \n",
       "161931  1.000000  13.110395  13.105123  0.000000   30     10  2019    19  \n",
       "161932  1.000000  12.757570  12.751515  0.000000   30     10  2019    20  \n",
       "161933  1.000000  13.127382  13.119375  1.764320   30     10  2019    21  \n",
       "161934  1.000000  13.871017  13.864963  0.000000   30     10  2019    22  \n",
       "161935  1.000000  15.044562  15.037726  0.000000   30     10  2019    23  \n",
       "\n",
       "[161936 rows x 29 columns]"
      ]
     },
     "execution_count": 5,
     "metadata": {},
     "output_type": "execute_result"
    }
   ],
   "source": [
    "# Preview data_df\n",
    "data_df"
   ]
  },
  {
   "cell_type": "code",
   "execution_count": 6,
   "id": "62ce7903",
   "metadata": {
    "execution": {
     "iopub.execute_input": "2023-05-05T11:22:10.050113Z",
     "iopub.status.busy": "2023-05-05T11:22:10.049724Z",
     "iopub.status.idle": "2023-05-05T11:22:10.055789Z",
     "shell.execute_reply": "2023-05-05T11:22:10.054609Z"
    },
    "papermill": {
     "duration": 0.030084,
     "end_time": "2023-05-05T11:22:10.058464",
     "exception": false,
     "start_time": "2023-05-05T11:22:10.028380",
     "status": "completed"
    },
    "tags": []
   },
   "outputs": [],
   "source": [
    "# Selected columns\n",
    "# typical_input_features = ['B09B', 'B10B', 'B11B', 'B12B', 'B14B', 'B16B', 'I2B', 'I4B', \n",
    "#                  'IRB', 'VSB', 'WVB', 'TCC', 'TCW', 'TCWV']\n",
    "full_input_features =['B09B', 'B10B', 'B11B', 'B12B', 'B14B', 'B16B', 'I2B', 'I4B', \n",
    "                 'IRB', 'VSB', 'WVB', 'TCC', 'TCW', 'TCWV','day','month','year','hour']"
   ]
  },
  {
   "cell_type": "markdown",
   "id": "486201ef",
   "metadata": {
    "papermill": {
     "duration": 0.020006,
     "end_time": "2023-05-05T11:22:10.098736",
     "exception": false,
     "start_time": "2023-05-05T11:22:10.078730",
     "status": "completed"
    },
    "tags": []
   },
   "source": [
    "# Train val test split"
   ]
  },
  {
   "cell_type": "code",
   "execution_count": 7,
   "id": "a6f2155c",
   "metadata": {
    "execution": {
     "iopub.execute_input": "2023-05-05T11:22:10.140633Z",
     "iopub.status.busy": "2023-05-05T11:22:10.140196Z",
     "iopub.status.idle": "2023-05-05T11:22:10.198763Z",
     "shell.execute_reply": "2023-05-05T11:22:10.197523Z"
    },
    "papermill": {
     "duration": 0.082856,
     "end_time": "2023-05-05T11:22:10.201683",
     "exception": false,
     "start_time": "2023-05-05T11:22:10.118827",
     "status": "completed"
    },
    "tags": []
   },
   "outputs": [],
   "source": [
    "X_full = data_df[full_input_features].values\n",
    "y = data_df['value'].values"
   ]
  },
  {
   "cell_type": "code",
   "execution_count": 8,
   "id": "71a7286b",
   "metadata": {
    "execution": {
     "iopub.execute_input": "2023-05-05T11:22:10.245353Z",
     "iopub.status.busy": "2023-05-05T11:22:10.244943Z",
     "iopub.status.idle": "2023-05-05T11:22:10.311798Z",
     "shell.execute_reply": "2023-05-05T11:22:10.310567Z"
    },
    "papermill": {
     "duration": 0.09228,
     "end_time": "2023-05-05T11:22:10.315088",
     "exception": false,
     "start_time": "2023-05-05T11:22:10.222808",
     "status": "completed"
    },
    "tags": []
   },
   "outputs": [],
   "source": [
    "X_train_full , X_test_full, y_train, y_test = train_test_split(X_full, y, test_size = 0.1, shuffle=True,random_state=42)\n",
    "X_train_full , X_val_full, y_train, y_val = train_test_split(X_train_full, y_train, test_size = 0.22, shuffle=True,random_state=42)\n",
    "# X_train_typical = copy.deepcopy(X_train_full[:,0:-4])\n",
    "# X_val_typical = copy.deepcopy(X_val_full[:,0:-4])\n",
    "# X_test_typical = copy.deepcopy(X_test_full[:,0:-4])"
   ]
  },
  {
   "cell_type": "code",
   "execution_count": 9,
   "id": "9ce3c733",
   "metadata": {
    "execution": {
     "iopub.execute_input": "2023-05-05T11:22:10.358118Z",
     "iopub.status.busy": "2023-05-05T11:22:10.357668Z",
     "iopub.status.idle": "2023-05-05T11:22:10.364855Z",
     "shell.execute_reply": "2023-05-05T11:22:10.363276Z"
    },
    "papermill": {
     "duration": 0.032064,
     "end_time": "2023-05-05T11:22:10.367679",
     "exception": false,
     "start_time": "2023-05-05T11:22:10.335615",
     "status": "completed"
    },
    "tags": []
   },
   "outputs": [
    {
     "name": "stdout",
     "output_type": "stream",
     "text": [
      "(113678, 18)\n",
      "(16194,)\n"
     ]
    }
   ],
   "source": [
    "# Test shape\n",
    "print(X_train_full.shape)\n",
    "# print(X_val_typical.shape)\n",
    "print(y_test.shape)"
   ]
  },
  {
   "cell_type": "code",
   "execution_count": 10,
   "id": "ec077fdc",
   "metadata": {
    "execution": {
     "iopub.execute_input": "2023-05-05T11:22:10.410979Z",
     "iopub.status.busy": "2023-05-05T11:22:10.410564Z",
     "iopub.status.idle": "2023-05-05T11:22:10.418215Z",
     "shell.execute_reply": "2023-05-05T11:22:10.416953Z"
    },
    "papermill": {
     "duration": 0.032369,
     "end_time": "2023-05-05T11:22:10.420808",
     "exception": false,
     "start_time": "2023-05-05T11:22:10.388439",
     "status": "completed"
    },
    "tags": []
   },
   "outputs": [
    {
     "data": {
      "text/plain": [
       "array([[ 247.9987793 ,  257.38955688,  276.9881897 , ...,    9.        ,\n",
       "        2019.        ,    0.        ],\n",
       "       [ 226.70910645,  231.11128235,  245.94526672, ...,    9.        ,\n",
       "        2019.        ,   19.        ],\n",
       "       [ 240.38768005,  247.79914856,  274.53997803, ...,   10.        ,\n",
       "        2019.        ,   20.        ],\n",
       "       ...,\n",
       "       [ 250.07162476,  259.48550415,  285.38650513, ...,    9.        ,\n",
       "        2019.        ,    0.        ],\n",
       "       [ 256.32250977,  262.45080566,  279.21463013, ...,   10.        ,\n",
       "        2019.        ,   16.        ],\n",
       "       [ 252.24710083,  260.04034424,  289.03421021, ...,    9.        ,\n",
       "        2019.        ,   14.        ]])"
      ]
     },
     "execution_count": 10,
     "metadata": {},
     "output_type": "execute_result"
    }
   ],
   "source": [
    "X_train_full"
   ]
  },
  {
   "cell_type": "code",
   "execution_count": 11,
   "id": "587a5f19",
   "metadata": {
    "execution": {
     "iopub.execute_input": "2023-05-05T11:22:10.463875Z",
     "iopub.status.busy": "2023-05-05T11:22:10.463436Z",
     "iopub.status.idle": "2023-05-05T11:22:10.509218Z",
     "shell.execute_reply": "2023-05-05T11:22:10.507908Z"
    },
    "papermill": {
     "duration": 0.070888,
     "end_time": "2023-05-05T11:22:10.512174",
     "exception": false,
     "start_time": "2023-05-05T11:22:10.441286",
     "status": "completed"
    },
    "tags": []
   },
   "outputs": [],
   "source": [
    "# Normalize the dataset\n",
    "mns = MinMaxScaler()\n",
    "# X_train_typical = mns.fit_transform(X_train_typical)\n",
    "# X_val_typical = mns.fit_transform(X_val_typical)\n",
    "# X_test_typical = mns.fit_transform(X_test_typical)\n",
    "# Don't normalize the datetime\n",
    "X_train_full[:,0:-4] = mns.fit_transform(X_train_full[:,0:-4])\n",
    "X_val_full[:,0:-4] = mns.fit_transform(X_val_full[:,0:-4])\n",
    "X_test_full[:,0:-4] = mns.fit_transform(X_test_full[:,0:-4])"
   ]
  },
  {
   "cell_type": "code",
   "execution_count": 12,
   "id": "821e3ec7",
   "metadata": {
    "execution": {
     "iopub.execute_input": "2023-05-05T11:22:10.555997Z",
     "iopub.status.busy": "2023-05-05T11:22:10.555592Z",
     "iopub.status.idle": "2023-05-05T11:22:10.563383Z",
     "shell.execute_reply": "2023-05-05T11:22:10.562215Z"
    },
    "papermill": {
     "duration": 0.033019,
     "end_time": "2023-05-05T11:22:10.565900",
     "exception": false,
     "start_time": "2023-05-05T11:22:10.532881",
     "status": "completed"
    },
    "tags": []
   },
   "outputs": [
    {
     "data": {
      "text/plain": [
       "(113678, 18)"
      ]
     },
     "execution_count": 12,
     "metadata": {},
     "output_type": "execute_result"
    }
   ],
   "source": [
    "X_train_full.shape"
   ]
  },
  {
   "cell_type": "code",
   "execution_count": 13,
   "id": "5588ff33",
   "metadata": {
    "execution": {
     "iopub.execute_input": "2023-05-05T11:22:10.608636Z",
     "iopub.status.busy": "2023-05-05T11:22:10.608200Z",
     "iopub.status.idle": "2023-05-05T11:22:10.616709Z",
     "shell.execute_reply": "2023-05-05T11:22:10.615457Z"
    },
    "papermill": {
     "duration": 0.032759,
     "end_time": "2023-05-05T11:22:10.618968",
     "exception": false,
     "start_time": "2023-05-05T11:22:10.586209",
     "status": "completed"
    },
    "tags": []
   },
   "outputs": [
    {
     "data": {
      "text/plain": [
       "array([[9.40599164e-01, 9.65886698e-01, 9.63247899e-01, ...,\n",
       "        9.00000000e+00, 2.01900000e+03, 1.20000000e+01],\n",
       "       [9.43642297e-01, 9.77003187e-01, 9.55325007e-01, ...,\n",
       "        9.00000000e+00, 2.01900000e+03, 9.00000000e+00],\n",
       "       [9.35661678e-01, 9.67500415e-01, 9.67132469e-01, ...,\n",
       "        9.00000000e+00, 2.01900000e+03, 0.00000000e+00],\n",
       "       ...,\n",
       "       [9.07421632e-01, 9.48826390e-01, 9.40676870e-01, ...,\n",
       "        1.00000000e+01, 2.01900000e+03, 1.00000000e+01],\n",
       "       [9.75901761e-01, 9.91150668e-01, 9.81783354e-01, ...,\n",
       "        1.00000000e+01, 2.01900000e+03, 8.00000000e+00],\n",
       "       [9.80063103e-01, 9.89435358e-01, 9.84802118e-01, ...,\n",
       "        9.00000000e+00, 2.01900000e+03, 3.00000000e+00]])"
      ]
     },
     "execution_count": 13,
     "metadata": {},
     "output_type": "execute_result"
    }
   ],
   "source": [
    "X_test_full"
   ]
  },
  {
   "cell_type": "markdown",
   "id": "f25ef7b8",
   "metadata": {
    "papermill": {
     "duration": 0.020045,
     "end_time": "2023-05-05T11:22:10.659478",
     "exception": false,
     "start_time": "2023-05-05T11:22:10.639433",
     "status": "completed"
    },
    "tags": []
   },
   "source": [
    "# Chuẩn bị một số array và hàm để thống kê sau"
   ]
  },
  {
   "cell_type": "code",
   "execution_count": 14,
   "id": "b00e92bb",
   "metadata": {
    "execution": {
     "iopub.execute_input": "2023-05-05T11:22:10.702726Z",
     "iopub.status.busy": "2023-05-05T11:22:10.702280Z",
     "iopub.status.idle": "2023-05-05T11:22:10.707886Z",
     "shell.execute_reply": "2023-05-05T11:22:10.706525Z"
    },
    "papermill": {
     "duration": 0.030837,
     "end_time": "2023-05-05T11:22:10.710847",
     "exception": false,
     "start_time": "2023-05-05T11:22:10.680010",
     "status": "completed"
    },
    "tags": []
   },
   "outputs": [],
   "source": [
    "all_RMSE_scores = {}\n",
    "all_Pearsonr_scores = {}\n",
    "all_MSE_scores = {}\n",
    "all_R2_scores = {}"
   ]
  },
  {
   "cell_type": "code",
   "execution_count": 15,
   "id": "a667a4c4",
   "metadata": {
    "execution": {
     "iopub.execute_input": "2023-05-05T11:22:10.755676Z",
     "iopub.status.busy": "2023-05-05T11:22:10.754937Z",
     "iopub.status.idle": "2023-05-05T11:22:10.761718Z",
     "shell.execute_reply": "2023-05-05T11:22:10.760414Z"
    },
    "papermill": {
     "duration": 0.032275,
     "end_time": "2023-05-05T11:22:10.764366",
     "exception": false,
     "start_time": "2023-05-05T11:22:10.732091",
     "status": "completed"
    },
    "tags": []
   },
   "outputs": [],
   "source": [
    "def get_scores(y_true,y_pred):\n",
    "    pearsonr_score, p_value = pearsonr(y_true, y_pred)\n",
    "    return [mean_squared_error(y_true, y_pred,squared=True), pearsonr_score, \n",
    "            mean_squared_error(y_true, y_pred,squared=False), r2_score(y_true,y_pred)]"
   ]
  },
  {
   "cell_type": "code",
   "execution_count": 16,
   "id": "645c744a",
   "metadata": {
    "execution": {
     "iopub.execute_input": "2023-05-05T11:22:10.807765Z",
     "iopub.status.busy": "2023-05-05T11:22:10.807332Z",
     "iopub.status.idle": "2023-05-05T11:22:10.813439Z",
     "shell.execute_reply": "2023-05-05T11:22:10.812184Z"
    },
    "papermill": {
     "duration": 0.030803,
     "end_time": "2023-05-05T11:22:10.816046",
     "exception": false,
     "start_time": "2023-05-05T11:22:10.785243",
     "status": "completed"
    },
    "tags": []
   },
   "outputs": [],
   "source": [
    "def add_to_dict(name,scores, RMSE, Pearsonr, MSE, R2):\n",
    "    RMSE[name] = scores[2]\n",
    "    Pearsonr[name]=scores[1]\n",
    "    MSE[name]=scores[0]\n",
    "    R2[name]=scores[3]"
   ]
  },
  {
   "cell_type": "markdown",
   "id": "904ad1a0",
   "metadata": {
    "papermill": {
     "duration": 0.020376,
     "end_time": "2023-05-05T11:22:10.857250",
     "exception": false,
     "start_time": "2023-05-05T11:22:10.836874",
     "status": "completed"
    },
    "tags": []
   },
   "source": [
    "# 1. Linear regression model"
   ]
  },
  {
   "cell_type": "markdown",
   "id": "9f6ad33b",
   "metadata": {
    "papermill": {
     "duration": 0.020254,
     "end_time": "2023-05-05T11:22:10.898161",
     "exception": false,
     "start_time": "2023-05-05T11:22:10.877907",
     "status": "completed"
    },
    "tags": []
   },
   "source": [
    "## 1.1. Normal data"
   ]
  },
  {
   "cell_type": "code",
   "execution_count": 17,
   "id": "6e2e70ec",
   "metadata": {
    "execution": {
     "iopub.execute_input": "2023-05-05T11:22:10.941293Z",
     "iopub.status.busy": "2023-05-05T11:22:10.940868Z",
     "iopub.status.idle": "2023-05-05T11:22:11.034251Z",
     "shell.execute_reply": "2023-05-05T11:22:11.032385Z"
    },
    "papermill": {
     "duration": 0.120312,
     "end_time": "2023-05-05T11:22:11.039129",
     "exception": false,
     "start_time": "2023-05-05T11:22:10.918817",
     "status": "completed"
    },
    "tags": []
   },
   "outputs": [
    {
     "name": "stdout",
     "output_type": "stream",
     "text": [
      "[5.66124867890055, 0.30469011294279863, 2.3793378656467747, 0.09183441625773925]\n"
     ]
    }
   ],
   "source": [
    "# With datetime\n",
    "lr_model = LinearRegression()\n",
    "lr_model.fit(X_train_full, y_train)\n",
    "lr_model_result = get_scores(y_test, lr_model.predict(X_test_full))\n",
    "print(lr_model_result)\n"
   ]
  },
  {
   "cell_type": "code",
   "execution_count": 18,
   "id": "c1756ac0",
   "metadata": {
    "execution": {
     "iopub.execute_input": "2023-05-05T11:22:11.152994Z",
     "iopub.status.busy": "2023-05-05T11:22:11.151873Z",
     "iopub.status.idle": "2023-05-05T11:22:11.178795Z",
     "shell.execute_reply": "2023-05-05T11:22:11.176954Z"
    },
    "papermill": {
     "duration": 0.089215,
     "end_time": "2023-05-05T11:22:11.184407",
     "exception": false,
     "start_time": "2023-05-05T11:22:11.095192",
     "status": "completed"
    },
    "tags": []
   },
   "outputs": [],
   "source": [
    "add_to_dict('lr_test',get_scores(y_test, lr_model.predict(X_test_full)),all_RMSE_scores,all_Pearsonr_scores,all_MSE_scores,all_R2_scores)\n",
    "add_to_dict('lr_train',get_scores(y_train, lr_model.predict(X_train_full)),all_RMSE_scores,all_Pearsonr_scores,all_MSE_scores,all_R2_scores)"
   ]
  },
  {
   "cell_type": "markdown",
   "id": "604ec7d9",
   "metadata": {
    "papermill": {
     "duration": 0.053653,
     "end_time": "2023-05-05T11:22:11.294121",
     "exception": false,
     "start_time": "2023-05-05T11:22:11.240468",
     "status": "completed"
    },
    "tags": []
   },
   "source": [
    "## 1.2. With PolynomialFeatures"
   ]
  },
  {
   "cell_type": "code",
   "execution_count": 19,
   "id": "655e1d65",
   "metadata": {
    "execution": {
     "iopub.execute_input": "2023-05-05T11:22:11.337801Z",
     "iopub.status.busy": "2023-05-05T11:22:11.337365Z",
     "iopub.status.idle": "2023-05-05T11:22:11.624317Z",
     "shell.execute_reply": "2023-05-05T11:22:11.622878Z"
    },
    "papermill": {
     "duration": 0.312377,
     "end_time": "2023-05-05T11:22:11.627275",
     "exception": false,
     "start_time": "2023-05-05T11:22:11.314898",
     "status": "completed"
    },
    "tags": []
   },
   "outputs": [],
   "source": [
    "poly_features = PolynomialFeatures(degree=2, include_bias=False)\n",
    "X_train_poly_full = poly_features.fit_transform(X_train_full)\n",
    "X_test_poly_full = poly_features.fit_transform(X_test_full)\n"
   ]
  },
  {
   "cell_type": "code",
   "execution_count": 20,
   "id": "d2496712",
   "metadata": {
    "execution": {
     "iopub.execute_input": "2023-05-05T11:22:11.670520Z",
     "iopub.status.busy": "2023-05-05T11:22:11.670092Z",
     "iopub.status.idle": "2023-05-05T11:22:13.246309Z",
     "shell.execute_reply": "2023-05-05T11:22:13.244665Z"
    },
    "papermill": {
     "duration": 1.603599,
     "end_time": "2023-05-05T11:22:13.251547",
     "exception": false,
     "start_time": "2023-05-05T11:22:11.647948",
     "status": "completed"
    },
    "tags": []
   },
   "outputs": [
    {
     "name": "stdout",
     "output_type": "stream",
     "text": [
      "[5.503807534319477, 0.3423052110095021, 2.346019508512126, 0.11709079291301949]\n"
     ]
    }
   ],
   "source": [
    "lr_model = LinearRegression()\n",
    "lr_model.fit(X_train_poly_full, y_train)\n",
    "lr_model_result = get_scores(y_test, lr_model.predict(X_test_poly_full))\n",
    "print(lr_model_result)"
   ]
  },
  {
   "cell_type": "code",
   "execution_count": 21,
   "id": "93208b01",
   "metadata": {
    "execution": {
     "iopub.execute_input": "2023-05-05T11:22:13.363639Z",
     "iopub.status.busy": "2023-05-05T11:22:13.363225Z",
     "iopub.status.idle": "2023-05-05T11:22:13.417995Z",
     "shell.execute_reply": "2023-05-05T11:22:13.416133Z"
    },
    "papermill": {
     "duration": 0.114307,
     "end_time": "2023-05-05T11:22:13.422096",
     "exception": false,
     "start_time": "2023-05-05T11:22:13.307789",
     "status": "completed"
    },
    "tags": []
   },
   "outputs": [],
   "source": [
    "add_to_dict('lr_poly_test',get_scores(y_test, lr_model.predict(X_test_poly_full)),all_RMSE_scores,all_Pearsonr_scores,all_MSE_scores,all_R2_scores)\n",
    "add_to_dict('lr_poly_train',get_scores(y_train, lr_model.predict(X_train_poly_full)),all_RMSE_scores,all_Pearsonr_scores,all_MSE_scores,all_R2_scores)"
   ]
  },
  {
   "cell_type": "markdown",
   "id": "92a21e3d",
   "metadata": {
    "papermill": {
     "duration": 0.053499,
     "end_time": "2023-05-05T11:22:13.532211",
     "exception": false,
     "start_time": "2023-05-05T11:22:13.478712",
     "status": "completed"
    },
    "tags": []
   },
   "source": [
    "# 2. GradientBoosting Regressor"
   ]
  },
  {
   "cell_type": "markdown",
   "id": "34b175af",
   "metadata": {
    "papermill": {
     "duration": 0.021225,
     "end_time": "2023-05-05T11:22:13.574349",
     "exception": false,
     "start_time": "2023-05-05T11:22:13.553124",
     "status": "completed"
    },
    "tags": []
   },
   "source": [
    "## 2.1. Use random hyperparameter"
   ]
  },
  {
   "cell_type": "code",
   "execution_count": 22,
   "id": "40887d3d",
   "metadata": {
    "execution": {
     "iopub.execute_input": "2023-05-05T11:22:13.618738Z",
     "iopub.status.busy": "2023-05-05T11:22:13.617511Z",
     "iopub.status.idle": "2023-05-05T11:23:31.448407Z",
     "shell.execute_reply": "2023-05-05T11:23:31.446051Z"
    },
    "papermill": {
     "duration": 77.909143,
     "end_time": "2023-05-05T11:23:31.504412",
     "exception": false,
     "start_time": "2023-05-05T11:22:13.595269",
     "status": "completed"
    },
    "tags": []
   },
   "outputs": [
    {
     "name": "stdout",
     "output_type": "stream",
     "text": [
      "[5.191029395081695, 0.40901423536554166, 2.278383065922343, 0.16726600292655736]\n"
     ]
    }
   ],
   "source": [
    "\n",
    "gbr = GradientBoostingRegressor()\n",
    "gbr.fit(X_train_full, y_train)\n",
    "predicted_test = gbr.predict(X_test_full)\n",
    "gbr_model_result = get_scores(y_test, predicted_test)\n",
    "print(gbr_model_result)"
   ]
  },
  {
   "cell_type": "code",
   "execution_count": 23,
   "id": "a7bc9898",
   "metadata": {
    "execution": {
     "iopub.execute_input": "2023-05-05T11:23:31.581271Z",
     "iopub.status.busy": "2023-05-05T11:23:31.579962Z",
     "iopub.status.idle": "2023-05-05T11:23:31.826329Z",
     "shell.execute_reply": "2023-05-05T11:23:31.824112Z"
    },
    "papermill": {
     "duration": 0.275543,
     "end_time": "2023-05-05T11:23:31.832320",
     "exception": false,
     "start_time": "2023-05-05T11:23:31.556777",
     "status": "completed"
    },
    "tags": []
   },
   "outputs": [],
   "source": [
    "add_to_dict('gbr_random_test',get_scores(y_test, gbr.predict(X_test_full)),all_RMSE_scores,all_Pearsonr_scores,all_MSE_scores,all_R2_scores)\n",
    "add_to_dict('gbr_random_train',get_scores(y_train, gbr.predict(X_train_full)),all_RMSE_scores,all_Pearsonr_scores,all_MSE_scores,all_R2_scores)"
   ]
  },
  {
   "cell_type": "markdown",
   "id": "265abc25",
   "metadata": {
    "papermill": {
     "duration": 0.052111,
     "end_time": "2023-05-05T11:23:31.941959",
     "exception": false,
     "start_time": "2023-05-05T11:23:31.889848",
     "status": "completed"
    },
    "tags": []
   },
   "source": [
    "## 2.2 Choose the best parameter for GradientBoosting Regressor"
   ]
  },
  {
   "cell_type": "code",
   "execution_count": 24,
   "id": "6a21aec9",
   "metadata": {
    "execution": {
     "iopub.execute_input": "2023-05-05T11:23:31.985875Z",
     "iopub.status.busy": "2023-05-05T11:23:31.985449Z",
     "iopub.status.idle": "2023-05-05T13:09:43.941403Z",
     "shell.execute_reply": "2023-05-05T13:09:43.939608Z"
    },
    "papermill": {
     "duration": 6372.04529,
     "end_time": "2023-05-05T13:09:44.008213",
     "exception": false,
     "start_time": "2023-05-05T11:23:31.962923",
     "status": "completed"
    },
    "tags": []
   },
   "outputs": [
    {
     "name": "stdout",
     "output_type": "stream",
     "text": [
      "Best parameters:  {'max_depth': 7, 'max_features': 'sqrt', 'min_samples_leaf': 5, 'n_estimators': 150}\n",
      "[4.716513765860203, 0.4934478464944214, 2.1717536153671304, 0.24338680027164994]\n"
     ]
    }
   ],
   "source": [
    "\n",
    "param_grid = {\n",
    "    'n_estimators': [50, 100, 150],\n",
    "    'max_depth': [3, 5, 7],\n",
    "    'min_samples_leaf' : [1,3,5],\n",
    "    'max_features' : ['sqrt', 'log2']\n",
    "}\n",
    "\n",
    "gbm = GradientBoostingRegressor()\n",
    "\n",
    "grid_search = GridSearchCV(gbm, param_grid=param_grid, cv=5)\n",
    "grid_search.fit(X_train_full, y_train)\n",
    "\n",
    "# In ra tham số tối ưu\n",
    "print(\"Best parameters: \", grid_search.best_params_)\n",
    "\n",
    "# Dự đoán với mô hình đã tìm được\n",
    "y_pred = grid_search.predict(X_test_full)\n",
    "\n",
    "# In ra kết quả của mô hình\n",
    "print(get_scores(y_test, y_pred))"
   ]
  },
  {
   "cell_type": "code",
   "execution_count": 25,
   "id": "cfa70f09",
   "metadata": {
    "execution": {
     "iopub.execute_input": "2023-05-05T13:09:44.085352Z",
     "iopub.status.busy": "2023-05-05T13:09:44.084943Z",
     "iopub.status.idle": "2023-05-05T13:09:44.672817Z",
     "shell.execute_reply": "2023-05-05T13:09:44.671189Z"
    },
    "papermill": {
     "duration": 0.616961,
     "end_time": "2023-05-05T13:09:44.678075",
     "exception": false,
     "start_time": "2023-05-05T13:09:44.061114",
     "status": "completed"
    },
    "tags": []
   },
   "outputs": [],
   "source": [
    "add_to_dict('gbr_optimize_test',get_scores(y_test, grid_search.predict(X_test_full)),all_RMSE_scores,all_Pearsonr_scores,all_MSE_scores,all_R2_scores)\n",
    "add_to_dict('gbr_optimize_train',get_scores(y_train, grid_search.predict(X_train_full)),all_RMSE_scores,all_Pearsonr_scores,all_MSE_scores,all_R2_scores)"
   ]
  },
  {
   "cell_type": "markdown",
   "id": "98c8152b",
   "metadata": {
    "papermill": {
     "duration": 0.051741,
     "end_time": "2023-05-05T13:09:44.789856",
     "exception": false,
     "start_time": "2023-05-05T13:09:44.738115",
     "status": "completed"
    },
    "tags": []
   },
   "source": [
    "# 3. XGBoost"
   ]
  },
  {
   "cell_type": "code",
   "execution_count": 26,
   "id": "01644aba",
   "metadata": {
    "execution": {
     "iopub.execute_input": "2023-05-05T13:09:44.834718Z",
     "iopub.status.busy": "2023-05-05T13:09:44.834268Z",
     "iopub.status.idle": "2023-05-05T13:10:06.529260Z",
     "shell.execute_reply": "2023-05-05T13:10:06.527764Z"
    },
    "papermill": {
     "duration": 21.721153,
     "end_time": "2023-05-05T13:10:06.532477",
     "exception": false,
     "start_time": "2023-05-05T13:09:44.811324",
     "status": "completed"
    },
    "tags": []
   },
   "outputs": [
    {
     "name": "stdout",
     "output_type": "stream",
     "text": [
      "[0]\tvalidation_0-rmse:2.16143\tvalidation_1-rmse:2.38034\n",
      "[1]\tvalidation_0-rmse:2.08088\tvalidation_1-rmse:2.30616\n",
      "[2]\tvalidation_0-rmse:2.02785\tvalidation_1-rmse:2.25623\n",
      "[3]\tvalidation_0-rmse:1.99157\tvalidation_1-rmse:2.23374\n",
      "[4]\tvalidation_0-rmse:1.96372\tvalidation_1-rmse:2.21098\n",
      "[5]\tvalidation_0-rmse:1.93481\tvalidation_1-rmse:2.19428\n",
      "[6]\tvalidation_0-rmse:1.91577\tvalidation_1-rmse:2.18543\n",
      "[7]\tvalidation_0-rmse:1.89826\tvalidation_1-rmse:2.17599\n",
      "[8]\tvalidation_0-rmse:1.88862\tvalidation_1-rmse:2.17554\n",
      "[9]\tvalidation_0-rmse:1.87302\tvalidation_1-rmse:2.17285\n",
      "[10]\tvalidation_0-rmse:1.86272\tvalidation_1-rmse:2.17344\n",
      "[11]\tvalidation_0-rmse:1.85808\tvalidation_1-rmse:2.17263\n",
      "[12]\tvalidation_0-rmse:1.84001\tvalidation_1-rmse:2.17036\n",
      "[13]\tvalidation_0-rmse:1.83452\tvalidation_1-rmse:2.16922\n",
      "[14]\tvalidation_0-rmse:1.82161\tvalidation_1-rmse:2.16677\n",
      "[15]\tvalidation_0-rmse:1.81325\tvalidation_1-rmse:2.16607\n",
      "[16]\tvalidation_0-rmse:1.80154\tvalidation_1-rmse:2.16098\n",
      "[17]\tvalidation_0-rmse:1.78327\tvalidation_1-rmse:2.15848\n",
      "[18]\tvalidation_0-rmse:1.77509\tvalidation_1-rmse:2.15707\n",
      "[19]\tvalidation_0-rmse:1.76890\tvalidation_1-rmse:2.16137\n",
      "[20]\tvalidation_0-rmse:1.76794\tvalidation_1-rmse:2.16263\n",
      "[21]\tvalidation_0-rmse:1.76633\tvalidation_1-rmse:2.16297\n",
      "[22]\tvalidation_0-rmse:1.75639\tvalidation_1-rmse:2.16384\n",
      "[23]\tvalidation_0-rmse:1.75414\tvalidation_1-rmse:2.16431\n",
      "[24]\tvalidation_0-rmse:1.74144\tvalidation_1-rmse:2.16383\n",
      "[25]\tvalidation_0-rmse:1.72817\tvalidation_1-rmse:2.15514\n",
      "[26]\tvalidation_0-rmse:1.72062\tvalidation_1-rmse:2.15859\n",
      "[27]\tvalidation_0-rmse:1.71381\tvalidation_1-rmse:2.15948\n",
      "[28]\tvalidation_0-rmse:1.70735\tvalidation_1-rmse:2.15885\n",
      "[29]\tvalidation_0-rmse:1.70121\tvalidation_1-rmse:2.15921\n",
      "[30]\tvalidation_0-rmse:1.69631\tvalidation_1-rmse:2.15831\n",
      "[31]\tvalidation_0-rmse:1.69222\tvalidation_1-rmse:2.15813\n",
      "[32]\tvalidation_0-rmse:1.68849\tvalidation_1-rmse:2.16160\n",
      "[33]\tvalidation_0-rmse:1.68700\tvalidation_1-rmse:2.16434\n",
      "[34]\tvalidation_0-rmse:1.68421\tvalidation_1-rmse:2.16359\n",
      "[35]\tvalidation_0-rmse:1.67508\tvalidation_1-rmse:2.16067\n",
      "[36]\tvalidation_0-rmse:1.66877\tvalidation_1-rmse:2.16288\n",
      "[37]\tvalidation_0-rmse:1.66154\tvalidation_1-rmse:2.16137\n",
      "[38]\tvalidation_0-rmse:1.66068\tvalidation_1-rmse:2.16126\n",
      "[39]\tvalidation_0-rmse:1.65552\tvalidation_1-rmse:2.16077\n",
      "[40]\tvalidation_0-rmse:1.65254\tvalidation_1-rmse:2.16119\n",
      "[41]\tvalidation_0-rmse:1.65197\tvalidation_1-rmse:2.16079\n",
      "[42]\tvalidation_0-rmse:1.64673\tvalidation_1-rmse:2.16216\n",
      "[43]\tvalidation_0-rmse:1.63623\tvalidation_1-rmse:2.16027\n",
      "[44]\tvalidation_0-rmse:1.63429\tvalidation_1-rmse:2.15938\n",
      "[45]\tvalidation_0-rmse:1.63160\tvalidation_1-rmse:2.15917\n",
      "[46]\tvalidation_0-rmse:1.63087\tvalidation_1-rmse:2.15922\n",
      "[47]\tvalidation_0-rmse:1.62572\tvalidation_1-rmse:2.15841\n",
      "[48]\tvalidation_0-rmse:1.61861\tvalidation_1-rmse:2.15695\n",
      "[49]\tvalidation_0-rmse:1.61702\tvalidation_1-rmse:2.15836\n",
      "[50]\tvalidation_0-rmse:1.61386\tvalidation_1-rmse:2.15571\n",
      "[51]\tvalidation_0-rmse:1.61276\tvalidation_1-rmse:2.15790\n",
      "[52]\tvalidation_0-rmse:1.60800\tvalidation_1-rmse:2.15763\n",
      "[53]\tvalidation_0-rmse:1.60353\tvalidation_1-rmse:2.15892\n",
      "[54]\tvalidation_0-rmse:1.60295\tvalidation_1-rmse:2.15918\n",
      "[55]\tvalidation_0-rmse:1.59724\tvalidation_1-rmse:2.15918\n",
      "[56]\tvalidation_0-rmse:1.59631\tvalidation_1-rmse:2.16050\n",
      "[57]\tvalidation_0-rmse:1.59186\tvalidation_1-rmse:2.16099\n",
      "[58]\tvalidation_0-rmse:1.59111\tvalidation_1-rmse:2.16163\n",
      "[59]\tvalidation_0-rmse:1.58911\tvalidation_1-rmse:2.16157\n",
      "[60]\tvalidation_0-rmse:1.58883\tvalidation_1-rmse:2.16248\n",
      "[61]\tvalidation_0-rmse:1.58172\tvalidation_1-rmse:2.16458\n",
      "[62]\tvalidation_0-rmse:1.57238\tvalidation_1-rmse:2.16194\n",
      "[63]\tvalidation_0-rmse:1.56792\tvalidation_1-rmse:2.16197\n",
      "[64]\tvalidation_0-rmse:1.56609\tvalidation_1-rmse:2.16040\n",
      "[65]\tvalidation_0-rmse:1.56046\tvalidation_1-rmse:2.15482\n",
      "[66]\tvalidation_0-rmse:1.55959\tvalidation_1-rmse:2.15623\n",
      "[67]\tvalidation_0-rmse:1.55504\tvalidation_1-rmse:2.15689\n",
      "[68]\tvalidation_0-rmse:1.54736\tvalidation_1-rmse:2.15818\n",
      "[69]\tvalidation_0-rmse:1.54032\tvalidation_1-rmse:2.15962\n",
      "[70]\tvalidation_0-rmse:1.53847\tvalidation_1-rmse:2.15816\n",
      "[71]\tvalidation_0-rmse:1.53272\tvalidation_1-rmse:2.15794\n",
      "[72]\tvalidation_0-rmse:1.52629\tvalidation_1-rmse:2.15722\n",
      "[73]\tvalidation_0-rmse:1.51887\tvalidation_1-rmse:2.15552\n",
      "[74]\tvalidation_0-rmse:1.51500\tvalidation_1-rmse:2.15544\n",
      "[75]\tvalidation_0-rmse:1.51019\tvalidation_1-rmse:2.15695\n",
      "[76]\tvalidation_0-rmse:1.50870\tvalidation_1-rmse:2.15666\n",
      "[77]\tvalidation_0-rmse:1.50843\tvalidation_1-rmse:2.15674\n",
      "[78]\tvalidation_0-rmse:1.50257\tvalidation_1-rmse:2.15667\n",
      "[79]\tvalidation_0-rmse:1.49592\tvalidation_1-rmse:2.15564\n",
      "[80]\tvalidation_0-rmse:1.49126\tvalidation_1-rmse:2.15612\n",
      "[81]\tvalidation_0-rmse:1.48829\tvalidation_1-rmse:2.15681\n",
      "[82]\tvalidation_0-rmse:1.48342\tvalidation_1-rmse:2.15540\n",
      "[83]\tvalidation_0-rmse:1.48037\tvalidation_1-rmse:2.15546\n",
      "[84]\tvalidation_0-rmse:1.47672\tvalidation_1-rmse:2.15617\n",
      "[85]\tvalidation_0-rmse:1.47252\tvalidation_1-rmse:2.15625\n",
      "[86]\tvalidation_0-rmse:1.47105\tvalidation_1-rmse:2.15585\n",
      "[87]\tvalidation_0-rmse:1.46978\tvalidation_1-rmse:2.15677\n",
      "[88]\tvalidation_0-rmse:1.46728\tvalidation_1-rmse:2.15684\n",
      "[89]\tvalidation_0-rmse:1.46399\tvalidation_1-rmse:2.15662\n",
      "[90]\tvalidation_0-rmse:1.46207\tvalidation_1-rmse:2.15671\n",
      "[91]\tvalidation_0-rmse:1.46128\tvalidation_1-rmse:2.15722\n",
      "[92]\tvalidation_0-rmse:1.45779\tvalidation_1-rmse:2.15595\n",
      "[93]\tvalidation_0-rmse:1.45669\tvalidation_1-rmse:2.15590\n",
      "[94]\tvalidation_0-rmse:1.45409\tvalidation_1-rmse:2.15774\n",
      "[95]\tvalidation_0-rmse:1.45058\tvalidation_1-rmse:2.15847\n",
      "[96]\tvalidation_0-rmse:1.44996\tvalidation_1-rmse:2.15945\n",
      "[97]\tvalidation_0-rmse:1.44653\tvalidation_1-rmse:2.15793\n",
      "[98]\tvalidation_0-rmse:1.44108\tvalidation_1-rmse:2.15714\n",
      "[99]\tvalidation_0-rmse:1.43491\tvalidation_1-rmse:2.15788\n",
      "[100]\tvalidation_0-rmse:1.42868\tvalidation_1-rmse:2.15975\n",
      "[101]\tvalidation_0-rmse:1.42517\tvalidation_1-rmse:2.16013\n",
      "[102]\tvalidation_0-rmse:1.42487\tvalidation_1-rmse:2.16025\n",
      "[103]\tvalidation_0-rmse:1.42241\tvalidation_1-rmse:2.16034\n",
      "[104]\tvalidation_0-rmse:1.42028\tvalidation_1-rmse:2.16045\n",
      "[105]\tvalidation_0-rmse:1.41861\tvalidation_1-rmse:2.16021\n",
      "[106]\tvalidation_0-rmse:1.41573\tvalidation_1-rmse:2.16142\n",
      "[107]\tvalidation_0-rmse:1.41270\tvalidation_1-rmse:2.16140\n",
      "[108]\tvalidation_0-rmse:1.41191\tvalidation_1-rmse:2.16029\n",
      "[109]\tvalidation_0-rmse:1.40831\tvalidation_1-rmse:2.16046\n",
      "[110]\tvalidation_0-rmse:1.40575\tvalidation_1-rmse:2.16068\n",
      "[111]\tvalidation_0-rmse:1.40409\tvalidation_1-rmse:2.16032\n",
      "[112]\tvalidation_0-rmse:1.40163\tvalidation_1-rmse:2.15992\n",
      "[113]\tvalidation_0-rmse:1.40070\tvalidation_1-rmse:2.16002\n",
      "[114]\tvalidation_0-rmse:1.39714\tvalidation_1-rmse:2.15913\n"
     ]
    },
    {
     "data": {
      "text/plain": [
       "XGBRegressor(base_score=0.5, booster='gbtree', callbacks=None,\n",
       "             colsample_bylevel=1, colsample_bynode=1, colsample_bytree=1,\n",
       "             early_stopping_rounds=None, enable_categorical=False,\n",
       "             eval_metric=None, gamma=0, gpu_id=-1, grow_policy='depthwise',\n",
       "             importance_type=None, interaction_constraints='',\n",
       "             learning_rate=0.300000012, max_bin=256, max_cat_to_onehot=4,\n",
       "             max_delta_step=0, max_depth=6, max_leaves=0, min_child_weight=1,\n",
       "             missing=nan, monotone_constraints='()', n_estimators=3000,\n",
       "             n_jobs=0, num_parallel_tree=1, predictor='auto', random_state=0,\n",
       "             reg_alpha=0, reg_lambda=1, ...)"
      ]
     },
     "execution_count": 26,
     "metadata": {},
     "output_type": "execute_result"
    }
   ],
   "source": [
    "# Full data\n",
    "reg = xgb.XGBRegressor(n_estimators=3000)\n",
    "reg.fit(X_train_full, y_train,\n",
    "        eval_set=[(X_train_full, y_train), (X_test_full, y_test)],\n",
    "        early_stopping_rounds=50,\n",
    "       verbose=True)"
   ]
  },
  {
   "cell_type": "code",
   "execution_count": 27,
   "id": "d75f43d6",
   "metadata": {
    "execution": {
     "iopub.execute_input": "2023-05-05T13:10:06.608551Z",
     "iopub.status.busy": "2023-05-05T13:10:06.607456Z",
     "iopub.status.idle": "2023-05-05T13:10:06.687880Z",
     "shell.execute_reply": "2023-05-05T13:10:06.685597Z"
    },
    "papermill": {
     "duration": 0.116315,
     "end_time": "2023-05-05T13:10:06.690734",
     "exception": false,
     "start_time": "2023-05-05T13:10:06.574419",
     "status": "completed"
    },
    "tags": []
   },
   "outputs": [
    {
     "name": "stdout",
     "output_type": "stream",
     "text": [
      "[4.643233649014941, 0.5069709910639246, 2.1548163840603545, 0.2551422422008328]\n"
     ]
    }
   ],
   "source": [
    "y_pred = reg.predict(X_test_full)\n",
    "print(get_scores(y_test, y_pred))"
   ]
  },
  {
   "cell_type": "code",
   "execution_count": 28,
   "id": "522c2a36",
   "metadata": {
    "execution": {
     "iopub.execute_input": "2023-05-05T13:10:06.801315Z",
     "iopub.status.busy": "2023-05-05T13:10:06.800928Z",
     "iopub.status.idle": "2023-05-05T13:10:07.069434Z",
     "shell.execute_reply": "2023-05-05T13:10:07.067536Z"
    },
    "papermill": {
     "duration": 0.338564,
     "end_time": "2023-05-05T13:10:07.078823",
     "exception": false,
     "start_time": "2023-05-05T13:10:06.740259",
     "status": "completed"
    },
    "tags": []
   },
   "outputs": [],
   "source": [
    "add_to_dict('xgb_test',get_scores(y_test, reg.predict(X_test_full)),all_RMSE_scores,all_Pearsonr_scores,all_MSE_scores,all_R2_scores)\n",
    "add_to_dict('xgb_train',get_scores(y_train, reg.predict(X_train_full)),all_RMSE_scores,all_Pearsonr_scores,all_MSE_scores,all_R2_scores)"
   ]
  },
  {
   "cell_type": "markdown",
   "id": "0ffbeab6",
   "metadata": {
    "papermill": {
     "duration": 0.042757,
     "end_time": "2023-05-05T13:10:07.202878",
     "exception": false,
     "start_time": "2023-05-05T13:10:07.160121",
     "status": "completed"
    },
    "tags": []
   },
   "source": [
    "# 4. SVR"
   ]
  },
  {
   "cell_type": "code",
   "execution_count": 29,
   "id": "f72ed19d",
   "metadata": {
    "execution": {
     "iopub.execute_input": "2023-05-05T13:10:07.262287Z",
     "iopub.status.busy": "2023-05-05T13:10:07.261895Z",
     "iopub.status.idle": "2023-05-05T13:22:19.820847Z",
     "shell.execute_reply": "2023-05-05T13:22:19.819588Z"
    },
    "papermill": {
     "duration": 732.621897,
     "end_time": "2023-05-05T13:22:19.853839",
     "exception": false,
     "start_time": "2023-05-05T13:10:07.231942",
     "status": "completed"
    },
    "tags": []
   },
   "outputs": [
    {
     "name": "stdout",
     "output_type": "stream",
     "text": [
      "[LibSVM].......\n",
      "Warning: using -h 0 may be faster\n",
      "*\n",
      "optimization finished, #iter = 7543\n",
      "obj = -36344.980553, rho = -0.200142\n",
      "nSV = 13920, nBSV = 13920\n"
     ]
    },
    {
     "data": {
      "text/plain": [
       "SVR(epsilon=0.2, verbose=True)"
      ]
     },
     "execution_count": 29,
     "metadata": {},
     "output_type": "execute_result"
    }
   ],
   "source": [
    "regr = SVR(C=1.0, epsilon=0.2,verbose=True)\n",
    "regr.fit(X_train_full,y_train)"
   ]
  },
  {
   "cell_type": "code",
   "execution_count": 30,
   "id": "bf05d6ee",
   "metadata": {
    "execution": {
     "iopub.execute_input": "2023-05-05T13:22:19.915562Z",
     "iopub.status.busy": "2023-05-05T13:22:19.915150Z",
     "iopub.status.idle": "2023-05-05T13:22:33.754993Z",
     "shell.execute_reply": "2023-05-05T13:22:33.753567Z"
    },
    "papermill": {
     "duration": 13.874408,
     "end_time": "2023-05-05T13:22:33.757626",
     "exception": false,
     "start_time": "2023-05-05T13:22:19.883218",
     "status": "completed"
    },
    "tags": []
   },
   "outputs": [
    {
     "name": "stdout",
     "output_type": "stream",
     "text": [
      "[6.260695900051538, 0.11134642590886537, 2.5021382655743745, -0.004327643810074111]\n"
     ]
    }
   ],
   "source": [
    "y_pred = regr.predict(X_test_full)\n",
    "print(get_scores(y_test, y_pred))"
   ]
  },
  {
   "cell_type": "code",
   "execution_count": 31,
   "id": "a44b3755",
   "metadata": {
    "execution": {
     "iopub.execute_input": "2023-05-05T13:22:33.854784Z",
     "iopub.status.busy": "2023-05-05T13:22:33.854065Z",
     "iopub.status.idle": "2023-05-05T13:24:24.902145Z",
     "shell.execute_reply": "2023-05-05T13:24:24.900344Z"
    },
    "papermill": {
     "duration": 111.119782,
     "end_time": "2023-05-05T13:24:24.907112",
     "exception": false,
     "start_time": "2023-05-05T13:22:33.787330",
     "status": "completed"
    },
    "tags": []
   },
   "outputs": [],
   "source": [
    "add_to_dict('svr_test',get_scores(y_test, regr.predict(X_test_full)),all_RMSE_scores,all_Pearsonr_scores,all_MSE_scores,all_R2_scores)\n",
    "add_to_dict('svr_train',get_scores(y_train, regr.predict(X_train_full)),all_RMSE_scores,all_Pearsonr_scores,all_MSE_scores,all_R2_scores)"
   ]
  },
  {
   "cell_type": "markdown",
   "id": "ffaf46df",
   "metadata": {
    "papermill": {
     "duration": 0.047481,
     "end_time": "2023-05-05T13:24:25.033871",
     "exception": false,
     "start_time": "2023-05-05T13:24:24.986390",
     "status": "completed"
    },
    "tags": []
   },
   "source": [
    "# 5. MLP Regressor"
   ]
  },
  {
   "cell_type": "markdown",
   "id": "af2ed644",
   "metadata": {
    "papermill": {
     "duration": 0.028457,
     "end_time": "2023-05-05T13:24:25.091110",
     "exception": false,
     "start_time": "2023-05-05T13:24:25.062653",
     "status": "completed"
    },
    "tags": []
   },
   "source": [
    "## 5.1. MLP đơn giản"
   ]
  },
  {
   "cell_type": "code",
   "execution_count": 32,
   "id": "feac20ac",
   "metadata": {
    "execution": {
     "iopub.execute_input": "2023-05-05T13:24:25.151032Z",
     "iopub.status.busy": "2023-05-05T13:24:25.150649Z",
     "iopub.status.idle": "2023-05-05T13:24:53.198287Z",
     "shell.execute_reply": "2023-05-05T13:24:53.196949Z"
    },
    "papermill": {
     "duration": 28.080432,
     "end_time": "2023-05-05T13:24:53.200651",
     "exception": false,
     "start_time": "2023-05-05T13:24:25.120219",
     "status": "completed"
    },
    "tags": []
   },
   "outputs": [
    {
     "name": "stdout",
     "output_type": "stream",
     "text": [
      "Iteration 1, loss = 9.84961879\n",
      "Iteration 2, loss = 2.63970724\n",
      "Iteration 3, loss = 2.63657584\n",
      "Iteration 4, loss = 2.63658226\n",
      "Iteration 5, loss = 2.63658340\n",
      "Iteration 6, loss = 2.63654347\n",
      "Iteration 7, loss = 2.63644396\n",
      "Iteration 8, loss = 2.63660236\n",
      "Iteration 9, loss = 2.63757832\n",
      "Iteration 10, loss = 2.63654586\n",
      "Iteration 11, loss = 2.63654931\n",
      "Iteration 12, loss = 2.63655729\n",
      "Iteration 13, loss = 2.63660587\n",
      "Iteration 14, loss = 2.63655172\n",
      "Training loss did not improve more than tol=0.000100 for 10 consecutive epochs. Stopping.\n"
     ]
    }
   ],
   "source": [
    "# Typical data\n",
    "MLP_regr = MLPRegressor(hidden_layer_sizes=(16,8,4),batch_size = 32, verbose=True).fit(X_train_full,y_train)"
   ]
  },
  {
   "cell_type": "code",
   "execution_count": 33,
   "id": "14c5a79d",
   "metadata": {
    "execution": {
     "iopub.execute_input": "2023-05-05T13:24:53.263288Z",
     "iopub.status.busy": "2023-05-05T13:24:53.262908Z",
     "iopub.status.idle": "2023-05-05T13:24:53.296894Z",
     "shell.execute_reply": "2023-05-05T13:24:53.295345Z"
    },
    "papermill": {
     "duration": 0.069693,
     "end_time": "2023-05-05T13:24:53.301018",
     "exception": false,
     "start_time": "2023-05-05T13:24:53.231325",
     "status": "completed"
    },
    "tags": []
   },
   "outputs": [
    {
     "name": "stdout",
     "output_type": "stream",
     "text": [
      "[6.233745469147811, nan, 2.496746977398353, -4.312474178425063e-06]\n"
     ]
    }
   ],
   "source": [
    "y_pred = MLP_regr.predict(X_test_full)\n",
    "print(get_scores(y_test, y_pred))"
   ]
  },
  {
   "cell_type": "code",
   "execution_count": 34,
   "id": "79cacd59",
   "metadata": {
    "execution": {
     "iopub.execute_input": "2023-05-05T13:24:53.432349Z",
     "iopub.status.busy": "2023-05-05T13:24:53.431932Z",
     "iopub.status.idle": "2023-05-05T13:24:53.651524Z",
     "shell.execute_reply": "2023-05-05T13:24:53.649775Z"
    },
    "papermill": {
     "duration": 0.274576,
     "end_time": "2023-05-05T13:24:53.655984",
     "exception": false,
     "start_time": "2023-05-05T13:24:53.381408",
     "status": "completed"
    },
    "tags": []
   },
   "outputs": [],
   "source": [
    "add_to_dict('MLP_simple_test',get_scores(y_test, MLP_regr.predict(X_test_full)),all_RMSE_scores,all_Pearsonr_scores,all_MSE_scores,all_R2_scores)\n",
    "add_to_dict('MLP_simple_train',get_scores(y_train, MLP_regr.predict(X_train_full)),all_RMSE_scores,all_Pearsonr_scores,all_MSE_scores,all_R2_scores)"
   ]
  },
  {
   "cell_type": "markdown",
   "id": "57cc08c8",
   "metadata": {
    "papermill": {
     "duration": 0.047771,
     "end_time": "2023-05-05T13:24:53.783922",
     "exception": false,
     "start_time": "2023-05-05T13:24:53.736151",
     "status": "completed"
    },
    "tags": []
   },
   "source": [
    "## 5.2. MLP nhiều lớp"
   ]
  },
  {
   "cell_type": "code",
   "execution_count": 35,
   "id": "16f8b1b9",
   "metadata": {
    "execution": {
     "iopub.execute_input": "2023-05-05T13:24:53.845874Z",
     "iopub.status.busy": "2023-05-05T13:24:53.845462Z",
     "iopub.status.idle": "2023-05-05T14:03:27.356951Z",
     "shell.execute_reply": "2023-05-05T14:03:27.354910Z"
    },
    "papermill": {
     "duration": 2313.633349,
     "end_time": "2023-05-05T14:03:27.447516",
     "exception": false,
     "start_time": "2023-05-05T13:24:53.814167",
     "status": "completed"
    },
    "tags": []
   },
   "outputs": [
    {
     "name": "stdout",
     "output_type": "stream",
     "text": [
      "Iteration 1, loss = 2.66074957\n",
      "Iteration 2, loss = 2.63827055\n",
      "Iteration 3, loss = 2.63757477\n",
      "Iteration 4, loss = 2.63737140\n",
      "Iteration 5, loss = 2.63742745\n",
      "Iteration 6, loss = 2.63745085\n",
      "Iteration 7, loss = 2.63716198\n",
      "Iteration 8, loss = 2.63682261\n",
      "Iteration 9, loss = 2.63683825\n",
      "Iteration 10, loss = 2.63692140\n",
      "Iteration 11, loss = 2.63685097\n",
      "Iteration 12, loss = 2.63674604\n",
      "Iteration 13, loss = 2.63693983\n",
      "Iteration 14, loss = 2.63683460\n",
      "Iteration 15, loss = 2.63682032\n",
      "Iteration 16, loss = 2.63664982\n",
      "Iteration 17, loss = 2.63683407\n",
      "Iteration 18, loss = 2.63679929\n",
      "Iteration 19, loss = 2.63676943\n",
      "Training loss did not improve more than tol=0.000100 for 10 consecutive epochs. Stopping.\n"
     ]
    }
   ],
   "source": [
    "MLP_regr = MLPRegressor(hidden_layer_sizes=(128,256,256, 128, 128, 64,64, 32,32, 16,16,16,8,8),batch_size = 32, verbose=True).fit(X_train_full,y_train)"
   ]
  },
  {
   "cell_type": "code",
   "execution_count": 36,
   "id": "c9048dc6",
   "metadata": {
    "execution": {
     "iopub.execute_input": "2023-05-05T14:03:27.516261Z",
     "iopub.status.busy": "2023-05-05T14:03:27.515868Z",
     "iopub.status.idle": "2023-05-05T14:03:31.988093Z",
     "shell.execute_reply": "2023-05-05T14:03:31.986375Z"
    },
    "papermill": {
     "duration": 4.510011,
     "end_time": "2023-05-05T14:03:31.992977",
     "exception": false,
     "start_time": "2023-05-05T14:03:27.482966",
     "status": "completed"
    },
    "tags": []
   },
   "outputs": [
    {
     "name": "stdout",
     "output_type": "stream",
     "text": [
      "[6.233741789034875, nan, 2.4967462404166896, -3.722118215865322e-06]\n"
     ]
    }
   ],
   "source": [
    "y_pred = MLP_regr.predict(X_test_full)\n",
    "print(get_scores(y_test, y_pred))"
   ]
  },
  {
   "cell_type": "code",
   "execution_count": 37,
   "id": "2e277656",
   "metadata": {
    "execution": {
     "iopub.execute_input": "2023-05-05T14:03:32.127422Z",
     "iopub.status.busy": "2023-05-05T14:03:32.127020Z",
     "iopub.status.idle": "2023-05-05T14:04:07.957861Z",
     "shell.execute_reply": "2023-05-05T14:04:07.956086Z"
    },
    "papermill": {
     "duration": 35.883659,
     "end_time": "2023-05-05T14:04:07.962770",
     "exception": false,
     "start_time": "2023-05-05T14:03:32.079111",
     "status": "completed"
    },
    "tags": []
   },
   "outputs": [],
   "source": [
    "add_to_dict('MLP_complex_test',get_scores(y_test, MLP_regr.predict(X_test_full)),all_RMSE_scores,all_Pearsonr_scores,all_MSE_scores,all_R2_scores)\n",
    "add_to_dict('MLP_complex_train',get_scores(y_train, MLP_regr.predict(X_train_full)),all_RMSE_scores,all_Pearsonr_scores,all_MSE_scores,all_R2_scores)"
   ]
  },
  {
   "cell_type": "markdown",
   "id": "f98a1ccd",
   "metadata": {
    "papermill": {
     "duration": 0.044487,
     "end_time": "2023-05-05T14:04:08.094351",
     "exception": false,
     "start_time": "2023-05-05T14:04:08.049864",
     "status": "completed"
    },
    "tags": []
   },
   "source": [
    "# 6. DecisionTreeRegressor"
   ]
  },
  {
   "cell_type": "markdown",
   "id": "3c761573",
   "metadata": {
    "papermill": {
     "duration": 0.031604,
     "end_time": "2023-05-05T14:04:08.158151",
     "exception": false,
     "start_time": "2023-05-05T14:04:08.126547",
     "status": "completed"
    },
    "tags": []
   },
   "source": [
    "Tìm decision tree với R2 cao nhất"
   ]
  },
  {
   "cell_type": "code",
   "execution_count": 38,
   "id": "74cf3c51",
   "metadata": {
    "execution": {
     "iopub.execute_input": "2023-05-05T14:04:08.223769Z",
     "iopub.status.busy": "2023-05-05T14:04:08.223343Z",
     "iopub.status.idle": "2023-05-05T14:06:09.003892Z",
     "shell.execute_reply": "2023-05-05T14:06:09.002094Z"
    },
    "papermill": {
     "duration": 120.817001,
     "end_time": "2023-05-05T14:06:09.006995",
     "exception": false,
     "start_time": "2023-05-05T14:04:08.189994",
     "status": "completed"
    },
    "tags": []
   },
   "outputs": [],
   "source": [
    "# Typical data\n",
    "max_depth= -1\n",
    "highest_score =-100\n",
    "for i in range(2,44):\n",
    "    DTRegr =DecisionTreeRegressor(max_depth=i)\n",
    "    DTRegr.fit(X_train_full,y_train)\n",
    "    y_train_pred_DTREG = DTRegr.predict(X_train_full)\n",
    "    y_test_pred_DTREG = DTRegr.predict(X_test_full)\n",
    "    if(DTRegr.score(X_test_full,y_test)>highest_score):\n",
    "        max_depth=i\n",
    "        highest_score = DTRegr.score(X_test_full,y_test)"
   ]
  },
  {
   "cell_type": "code",
   "execution_count": 39,
   "id": "2f23bb67",
   "metadata": {
    "execution": {
     "iopub.execute_input": "2023-05-05T14:06:09.073857Z",
     "iopub.status.busy": "2023-05-05T14:06:09.073371Z",
     "iopub.status.idle": "2023-05-05T14:06:10.660116Z",
     "shell.execute_reply": "2023-05-05T14:06:10.658859Z"
    },
    "papermill": {
     "duration": 1.623181,
     "end_time": "2023-05-05T14:06:10.663196",
     "exception": false,
     "start_time": "2023-05-05T14:06:09.040015",
     "status": "completed"
    },
    "tags": []
   },
   "outputs": [
    {
     "data": {
      "text/plain": [
       "DecisionTreeRegressor(max_depth=7)"
      ]
     },
     "execution_count": 39,
     "metadata": {},
     "output_type": "execute_result"
    }
   ],
   "source": [
    "DTRegr =DecisionTreeRegressor(max_depth=max_depth)\n",
    "DTRegr.fit(X_train_full,y_train)"
   ]
  },
  {
   "cell_type": "code",
   "execution_count": 40,
   "id": "b100165b",
   "metadata": {
    "execution": {
     "iopub.execute_input": "2023-05-05T14:06:10.729309Z",
     "iopub.status.busy": "2023-05-05T14:06:10.728694Z",
     "iopub.status.idle": "2023-05-05T14:06:10.747493Z",
     "shell.execute_reply": "2023-05-05T14:06:10.743327Z"
    },
    "papermill": {
     "duration": 0.056668,
     "end_time": "2023-05-05T14:06:10.752050",
     "exception": false,
     "start_time": "2023-05-05T14:06:10.695382",
     "status": "completed"
    },
    "tags": []
   },
   "outputs": [
    {
     "name": "stdout",
     "output_type": "stream",
     "text": [
      "[5.264549769833013, 0.4013315088608382, 2.294460670796737, 0.15547201933035393]\n"
     ]
    }
   ],
   "source": [
    "y_pred = DTRegr.predict(X_test_full)\n",
    "print(get_scores(y_test, y_pred))"
   ]
  },
  {
   "cell_type": "code",
   "execution_count": 41,
   "id": "40b12964",
   "metadata": {
    "execution": {
     "iopub.execute_input": "2023-05-05T14:06:10.883152Z",
     "iopub.status.busy": "2023-05-05T14:06:10.882766Z",
     "iopub.status.idle": "2023-05-05T14:06:10.917364Z",
     "shell.execute_reply": "2023-05-05T14:06:10.915610Z"
    },
    "papermill": {
     "duration": 0.081708,
     "end_time": "2023-05-05T14:06:10.921875",
     "exception": false,
     "start_time": "2023-05-05T14:06:10.840167",
     "status": "completed"
    },
    "tags": []
   },
   "outputs": [],
   "source": [
    "add_to_dict('DecisionTree_test',get_scores(y_test, DTRegr.predict(X_test_full)),all_RMSE_scores,all_Pearsonr_scores,all_MSE_scores,all_R2_scores)\n",
    "add_to_dict('DecisionTree_train',get_scores(y_train, DTRegr.predict(X_train_full)),all_RMSE_scores,all_Pearsonr_scores,all_MSE_scores,all_R2_scores)"
   ]
  },
  {
   "cell_type": "markdown",
   "id": "a4239d84",
   "metadata": {
    "papermill": {
     "duration": 0.04747,
     "end_time": "2023-05-05T14:06:11.055213",
     "exception": false,
     "start_time": "2023-05-05T14:06:11.007743",
     "status": "completed"
    },
    "tags": []
   },
   "source": [
    "### Current result"
   ]
  },
  {
   "cell_type": "code",
   "execution_count": 42,
   "id": "93a8e73c",
   "metadata": {
    "execution": {
     "iopub.execute_input": "2023-05-05T14:06:11.122147Z",
     "iopub.status.busy": "2023-05-05T14:06:11.121301Z",
     "iopub.status.idle": "2023-05-05T14:06:11.127644Z",
     "shell.execute_reply": "2023-05-05T14:06:11.126423Z"
    },
    "papermill": {
     "duration": 0.043002,
     "end_time": "2023-05-05T14:06:11.130591",
     "exception": false,
     "start_time": "2023-05-05T14:06:11.087589",
     "status": "completed"
    },
    "tags": []
   },
   "outputs": [
    {
     "name": "stdout",
     "output_type": "stream",
     "text": [
      "{'lr_test': 2.3793378656467747, 'lr_train': 2.1726566992606924, 'lr_poly_test': 2.346019508512126, 'lr_poly_train': 2.1252526236123175, 'gbr_random_test': 2.278383065922343, 'gbr_random_train': 1.9848936859546928, 'gbr_optimize_test': 2.1717536153671304, 'gbr_optimize_train': 1.6064425486728664, 'xgb_test': 2.1548163840603545, 'xgb_train': 1.5604588573803828, 'svr_test': 2.5021382655743745, 'svr_train': 2.3013073398123516, 'MLP_simple_test': 2.496746977398353, 'MLP_simple_train': 2.2962788331066117, 'MLP_complex_test': 2.4967462404166896, 'MLP_complex_train': 2.296279959245936, 'DecisionTree_test': 2.294460670796737, 'DecisionTree_train': 1.9349831062722629}\n",
      "{'lr_test': 5.66124867890055, 'lr_train': 4.720437132842367, 'lr_poly_test': 5.503807534319477, 'lr_poly_train': 4.516698714171039, 'gbr_random_test': 5.191029395081695, 'gbr_random_train': 3.9398029445428064, 'gbr_optimize_test': 4.716513765860203, 'gbr_optimize_train': 2.5806576621865744, 'xgb_test': 4.643233649014941, 'xgb_train': 2.4350318455768902, 'svr_test': 6.260695900051538, 'svr_train': 5.296015472274202, 'MLP_simple_test': 6.233745469147811, 'MLP_simple_train': 5.272896479373462, 'MLP_complex_test': 6.233741789034875, 'MLP_complex_train': 5.272901651234519, 'DecisionTree_test': 5.264549769833013, 'DecisionTree_train': 3.744159621559055}\n",
      "{'lr_test': 0.30469011294279863, 'lr_train': 0.323674925935557, 'lr_poly_test': 0.3423052110095021, 'lr_poly_train': 0.37869179682138515, 'gbr_random_test': 0.40901423536554166, 'gbr_random_train': 0.5144212609139267, 'gbr_optimize_test': 0.4934478464944214, 'gbr_optimize_train': 0.7345058898479274, 'xgb_test': 0.5069709910639246, 'xgb_train': 0.747725140951156, 'svr_test': 0.11134642590886537, 'svr_train': 0.12319828267758973, 'MLP_simple_test': nan, 'MLP_simple_train': nan, 'MLP_complex_test': nan, 'MLP_complex_train': nan, 'DecisionTree_test': 0.4013315088608382, 'DecisionTree_train': 0.538439634993989}\n",
      "{'lr_test': 0.09183441625773925, 'lr_train': 0.10476545767938839, 'lr_poly_test': 0.11709079291301949, 'lr_poly_train': 0.14340460588948756, 'gbr_random_test': 0.16726600292655736, 'gbr_random_train': 0.25281333346189516, 'gbr_optimize_test': 0.24338680027164994, 'gbr_optimize_train': 0.5105762843402903, 'xgb_test': 0.2551422422008328, 'xgb_train': 0.5381943327569495, 'svr_test': -0.004327643810074111, 'svr_train': -0.00439341824036088, 'MLP_simple_test': -4.312474178425063e-06, 'MLP_simple_train': -8.88340895532913e-06, 'MLP_complex_test': -3.722118215865322e-06, 'MLP_complex_train': -9.864256392821957e-06, 'DecisionTree_test': 0.15547201933035393, 'DecisionTree_train': 0.28991724053246326}\n"
     ]
    }
   ],
   "source": [
    "# Print all\n",
    "print(all_RMSE_scores)\n",
    "print(all_MSE_scores)\n",
    "print(all_Pearsonr_scores)\n",
    "print(all_R2_scores)"
   ]
  },
  {
   "cell_type": "markdown",
   "id": "af9be987",
   "metadata": {
    "papermill": {
     "duration": 0.032016,
     "end_time": "2023-05-05T14:06:11.195142",
     "exception": false,
     "start_time": "2023-05-05T14:06:11.163126",
     "status": "completed"
    },
    "tags": []
   },
   "source": [
    "# 7. LSTM"
   ]
  },
  {
   "cell_type": "markdown",
   "id": "20774b0a",
   "metadata": {
    "papermill": {
     "duration": 0.032765,
     "end_time": "2023-05-05T14:06:11.260678",
     "exception": false,
     "start_time": "2023-05-05T14:06:11.227913",
     "status": "completed"
    },
    "tags": []
   },
   "source": [
    "## 7.1. LSTM thường"
   ]
  },
  {
   "cell_type": "code",
   "execution_count": 43,
   "id": "64ea0dbd",
   "metadata": {
    "execution": {
     "iopub.execute_input": "2023-05-05T14:06:11.327559Z",
     "iopub.status.busy": "2023-05-05T14:06:11.327109Z",
     "iopub.status.idle": "2023-05-05T14:06:11.944187Z",
     "shell.execute_reply": "2023-05-05T14:06:11.942064Z"
    },
    "papermill": {
     "duration": 0.653859,
     "end_time": "2023-05-05T14:06:11.946395",
     "exception": false,
     "start_time": "2023-05-05T14:06:11.292536",
     "status": "completed"
    },
    "tags": []
   },
   "outputs": [
    {
     "name": "stdout",
     "output_type": "stream",
     "text": [
      "Model: \"sequential\"\n",
      "_________________________________________________________________\n",
      " Layer (type)                Output Shape              Param #   \n",
      "=================================================================\n",
      " lstm (LSTM)                 (None, 1, 16)             2240      \n",
      "                                                                 \n",
      " lstm_1 (LSTM)               (None, 1, 16)             2112      \n",
      "                                                                 \n",
      " dropout (Dropout)           (None, 1, 16)             0         \n",
      "                                                                 \n",
      " batch_normalization (BatchN  (None, 1, 16)            64        \n",
      " ormalization)                                                   \n",
      "                                                                 \n",
      " lstm_2 (LSTM)               (None, 8)                 800       \n",
      "                                                                 \n",
      " dense (Dense)               (None, 1)                 9         \n",
      "                                                                 \n",
      "=================================================================\n",
      "Total params: 5,225\n",
      "Trainable params: 5,193\n",
      "Non-trainable params: 32\n",
      "_________________________________________________________________\n",
      "None\n"
     ]
    }
   ],
   "source": [
    "# Typical data\n",
    "# Khởi tạo mô hình\n",
    "model = Sequential()\n",
    "\n",
    "# Thêm lớp LSTM với 32 units\n",
    "model.add(LSTM(16, activation='relu', input_shape=(1,18), return_sequences=True))\n",
    "model.add(LSTM(16, activation='relu', return_sequences=True))\n",
    "model.add(Dropout(0.3))\n",
    "model.add(BatchNormalization())\n",
    "model.add(LSTM(8, activation='relu'))\n",
    "# Thêm lớp dense với 1 unit để dự đoán đầu ra\n",
    "model.add(Dense(1))\n",
    "print(model.summary())"
   ]
  },
  {
   "cell_type": "code",
   "execution_count": 44,
   "id": "c1298ca7",
   "metadata": {
    "execution": {
     "iopub.execute_input": "2023-05-05T14:06:12.016932Z",
     "iopub.status.busy": "2023-05-05T14:06:12.016549Z",
     "iopub.status.idle": "2023-05-05T14:06:12.034896Z",
     "shell.execute_reply": "2023-05-05T14:06:12.033910Z"
    },
    "papermill": {
     "duration": 0.057063,
     "end_time": "2023-05-05T14:06:12.037524",
     "exception": false,
     "start_time": "2023-05-05T14:06:11.980461",
     "status": "completed"
    },
    "tags": []
   },
   "outputs": [],
   "source": [
    "# Compile model\n",
    "model.compile(optimizer=Adam(learning_rate = 0.001), loss='mse')"
   ]
  },
  {
   "cell_type": "code",
   "execution_count": 45,
   "id": "c468fd67",
   "metadata": {
    "execution": {
     "iopub.execute_input": "2023-05-05T14:06:12.107809Z",
     "iopub.status.busy": "2023-05-05T14:06:12.107381Z",
     "iopub.status.idle": "2023-05-05T14:06:12.115233Z",
     "shell.execute_reply": "2023-05-05T14:06:12.113794Z"
    },
    "papermill": {
     "duration": 0.046344,
     "end_time": "2023-05-05T14:06:12.117838",
     "exception": false,
     "start_time": "2023-05-05T14:06:12.071494",
     "status": "completed"
    },
    "tags": []
   },
   "outputs": [
    {
     "name": "stdout",
     "output_type": "stream",
     "text": [
      "(32064, 1, 18)\n"
     ]
    }
   ],
   "source": [
    "# Reshape\n",
    "X_train_reshape = X_train_full.reshape((X_train_full.shape[0],1,X_train_full.shape[1]))\n",
    "X_val_reshape = X_val_full.reshape((X_val_full.shape[0],1,X_val_full.shape[1]))\n",
    "X_test_reshape = X_test_full.reshape((X_test_full.shape[0],1,X_test_full.shape[1]))\n",
    "print(X_val_reshape.shape)"
   ]
  },
  {
   "cell_type": "code",
   "execution_count": 46,
   "id": "71cc5bdf",
   "metadata": {
    "execution": {
     "iopub.execute_input": "2023-05-05T14:06:12.189823Z",
     "iopub.status.busy": "2023-05-05T14:06:12.189355Z",
     "iopub.status.idle": "2023-05-05T14:06:12.197181Z",
     "shell.execute_reply": "2023-05-05T14:06:12.195741Z"
    },
    "papermill": {
     "duration": 0.047175,
     "end_time": "2023-05-05T14:06:12.200024",
     "exception": false,
     "start_time": "2023-05-05T14:06:12.152849",
     "status": "completed"
    },
    "tags": []
   },
   "outputs": [
    {
     "data": {
      "text/plain": [
       "array([0. , 0. , 0.6, ..., 0. , 0. , 0. ])"
      ]
     },
     "execution_count": 46,
     "metadata": {},
     "output_type": "execute_result"
    }
   ],
   "source": [
    "y_val"
   ]
  },
  {
   "cell_type": "code",
   "execution_count": 47,
   "id": "08df7e1d",
   "metadata": {
    "execution": {
     "iopub.execute_input": "2023-05-05T14:06:12.270981Z",
     "iopub.status.busy": "2023-05-05T14:06:12.270592Z",
     "iopub.status.idle": "2023-05-05T14:38:40.747616Z",
     "shell.execute_reply": "2023-05-05T14:38:40.746277Z"
    },
    "papermill": {
     "duration": 1948.51606,
     "end_time": "2023-05-05T14:38:40.750386",
     "exception": false,
     "start_time": "2023-05-05T14:06:12.234326",
     "status": "completed"
    },
    "tags": []
   },
   "outputs": [
    {
     "name": "stdout",
     "output_type": "stream",
     "text": [
      "Epoch 1/100\n",
      "3553/3553 [==============================] - 23s 5ms/step - loss: 5.2324 - val_loss: 6.6705\n",
      "Epoch 2/100\n",
      "3553/3553 [==============================] - 18s 5ms/step - loss: 5.1061 - val_loss: 6.4528\n",
      "Epoch 3/100\n",
      "3553/3553 [==============================] - 18s 5ms/step - loss: 5.0764 - val_loss: 6.1944\n",
      "Epoch 4/100\n",
      "3553/3553 [==============================] - 19s 5ms/step - loss: 5.0630 - val_loss: 6.2656\n",
      "Epoch 5/100\n",
      "3553/3553 [==============================] - 19s 5ms/step - loss: 5.0772 - val_loss: 6.4384\n",
      "Epoch 6/100\n",
      "3553/3553 [==============================] - 19s 5ms/step - loss: 5.0429 - val_loss: 6.1270\n",
      "Epoch 7/100\n",
      "3553/3553 [==============================] - 19s 5ms/step - loss: 5.0269 - val_loss: 6.3168\n",
      "Epoch 8/100\n",
      "3553/3553 [==============================] - 18s 5ms/step - loss: 5.0241 - val_loss: 9.0098\n",
      "Epoch 9/100\n",
      "3553/3553 [==============================] - 18s 5ms/step - loss: 5.0146 - val_loss: 8.9114\n",
      "Epoch 10/100\n",
      "3553/3553 [==============================] - 19s 5ms/step - loss: 5.0131 - val_loss: 6.4799\n",
      "Epoch 11/100\n",
      "3553/3553 [==============================] - 19s 5ms/step - loss: 5.1598 - val_loss: 6.4167\n",
      "Epoch 12/100\n",
      "3553/3553 [==============================] - 19s 5ms/step - loss: 5.2835 - val_loss: 6.4034\n",
      "Epoch 13/100\n",
      "3553/3553 [==============================] - 19s 5ms/step - loss: 5.2778 - val_loss: 6.4035\n",
      "Epoch 14/100\n",
      "3553/3553 [==============================] - 19s 5ms/step - loss: 5.2772 - val_loss: 6.4043\n",
      "Epoch 15/100\n",
      "3553/3553 [==============================] - 18s 5ms/step - loss: 5.2757 - val_loss: 6.4041\n",
      "Epoch 16/100\n",
      "3553/3553 [==============================] - 19s 5ms/step - loss: 5.2743 - val_loss: 6.4034\n",
      "Epoch 17/100\n",
      "3553/3553 [==============================] - 18s 5ms/step - loss: 5.2737 - val_loss: 6.4034\n",
      "Epoch 18/100\n",
      "3553/3553 [==============================] - 19s 5ms/step - loss: 5.2733 - val_loss: 6.4040\n",
      "Epoch 19/100\n",
      "3553/3553 [==============================] - 18s 5ms/step - loss: 5.2733 - val_loss: 6.4047\n",
      "Epoch 20/100\n",
      "3553/3553 [==============================] - 18s 5ms/step - loss: 5.2731 - val_loss: 6.4046\n",
      "Epoch 21/100\n",
      "3553/3553 [==============================] - 19s 5ms/step - loss: 5.2732 - val_loss: 6.4050\n",
      "Epoch 22/100\n",
      "3553/3553 [==============================] - 18s 5ms/step - loss: 5.2732 - val_loss: 6.4040\n",
      "Epoch 23/100\n",
      "3553/3553 [==============================] - 19s 5ms/step - loss: 5.2731 - val_loss: 6.4049\n",
      "Epoch 24/100\n",
      "3553/3553 [==============================] - 19s 5ms/step - loss: 5.2732 - val_loss: 6.4037\n",
      "Epoch 25/100\n",
      "3553/3553 [==============================] - 18s 5ms/step - loss: 5.2734 - val_loss: 6.4048\n",
      "Epoch 26/100\n",
      "3553/3553 [==============================] - 19s 5ms/step - loss: 5.2731 - val_loss: 6.4050\n",
      "Epoch 27/100\n",
      "3553/3553 [==============================] - 20s 6ms/step - loss: 5.2733 - val_loss: 6.4049\n",
      "Epoch 28/100\n",
      "3553/3553 [==============================] - 19s 5ms/step - loss: 5.2731 - val_loss: 6.4042\n",
      "Epoch 29/100\n",
      "3553/3553 [==============================] - 18s 5ms/step - loss: 5.2732 - val_loss: 6.4041\n",
      "Epoch 30/100\n",
      "3553/3553 [==============================] - 19s 5ms/step - loss: 5.2730 - val_loss: 6.4034\n",
      "Epoch 31/100\n",
      "3553/3553 [==============================] - 19s 5ms/step - loss: 5.2733 - val_loss: 6.4055\n",
      "Epoch 32/100\n",
      "3553/3553 [==============================] - 18s 5ms/step - loss: 5.2733 - val_loss: 6.4042\n",
      "Epoch 33/100\n",
      "3553/3553 [==============================] - 18s 5ms/step - loss: 5.2732 - val_loss: 6.4046\n",
      "Epoch 34/100\n",
      "3553/3553 [==============================] - 18s 5ms/step - loss: 5.2732 - val_loss: 6.4041\n",
      "Epoch 35/100\n",
      "3553/3553 [==============================] - 19s 5ms/step - loss: 5.2731 - val_loss: 6.4040\n",
      "Epoch 36/100\n",
      "3553/3553 [==============================] - 18s 5ms/step - loss: 5.2731 - val_loss: 6.4058\n",
      "Epoch 37/100\n",
      "3553/3553 [==============================] - 18s 5ms/step - loss: 5.2731 - val_loss: 6.4053\n",
      "Epoch 38/100\n",
      "3553/3553 [==============================] - 19s 5ms/step - loss: 5.2730 - val_loss: 6.4059\n",
      "Epoch 39/100\n",
      "3553/3553 [==============================] - 20s 6ms/step - loss: 5.2730 - val_loss: 6.4035\n",
      "Epoch 40/100\n",
      "3553/3553 [==============================] - 19s 5ms/step - loss: 5.2731 - val_loss: 6.4039\n",
      "Epoch 41/100\n",
      "3553/3553 [==============================] - 19s 5ms/step - loss: 5.2730 - val_loss: 6.4065\n",
      "Epoch 42/100\n",
      "3553/3553 [==============================] - 19s 5ms/step - loss: 5.2731 - val_loss: 6.4040\n",
      "Epoch 43/100\n",
      "3553/3553 [==============================] - 20s 6ms/step - loss: 5.2730 - val_loss: 6.4052\n",
      "Epoch 44/100\n",
      "3553/3553 [==============================] - 20s 6ms/step - loss: 5.2728 - val_loss: 6.4038\n",
      "Epoch 45/100\n",
      "3553/3553 [==============================] - 20s 6ms/step - loss: 5.2731 - val_loss: 6.4038\n",
      "Epoch 46/100\n",
      "3553/3553 [==============================] - 20s 6ms/step - loss: 5.2733 - val_loss: 6.4047\n",
      "Epoch 47/100\n",
      "3553/3553 [==============================] - 19s 5ms/step - loss: 5.2730 - val_loss: 6.4036\n",
      "Epoch 48/100\n",
      "3553/3553 [==============================] - 20s 5ms/step - loss: 5.2732 - val_loss: 6.4047\n",
      "Epoch 49/100\n",
      "3553/3553 [==============================] - 20s 5ms/step - loss: 5.2731 - val_loss: 6.4065\n",
      "Epoch 50/100\n",
      "3553/3553 [==============================] - 19s 5ms/step - loss: 5.2732 - val_loss: 6.4053\n",
      "Epoch 51/100\n",
      "3553/3553 [==============================] - 19s 5ms/step - loss: 5.2734 - val_loss: 6.4041\n",
      "Epoch 52/100\n",
      "3553/3553 [==============================] - 20s 6ms/step - loss: 5.2729 - val_loss: 6.4046\n",
      "Epoch 53/100\n",
      "3553/3553 [==============================] - 20s 6ms/step - loss: 5.2732 - val_loss: 6.4050\n",
      "Epoch 54/100\n",
      "3553/3553 [==============================] - 20s 5ms/step - loss: 5.2731 - val_loss: 6.4043\n",
      "Epoch 55/100\n",
      "3553/3553 [==============================] - 20s 6ms/step - loss: 5.2731 - val_loss: 6.4038\n",
      "Epoch 56/100\n",
      "3553/3553 [==============================] - 20s 6ms/step - loss: 5.2732 - val_loss: 6.4060\n",
      "Epoch 57/100\n",
      "3553/3553 [==============================] - 20s 6ms/step - loss: 5.2731 - val_loss: 6.4047\n",
      "Epoch 58/100\n",
      "3553/3553 [==============================] - 20s 6ms/step - loss: 5.2731 - val_loss: 6.4050\n",
      "Epoch 59/100\n",
      "3553/3553 [==============================] - 20s 6ms/step - loss: 5.2731 - val_loss: 6.4047\n",
      "Epoch 60/100\n",
      "3553/3553 [==============================] - 20s 6ms/step - loss: 5.2732 - val_loss: 6.4053\n",
      "Epoch 61/100\n",
      "3553/3553 [==============================] - 20s 6ms/step - loss: 5.2731 - val_loss: 6.4053\n",
      "Epoch 62/100\n",
      "3553/3553 [==============================] - 20s 6ms/step - loss: 5.2732 - val_loss: 6.4055\n",
      "Epoch 63/100\n",
      "3553/3553 [==============================] - 19s 5ms/step - loss: 5.2730 - val_loss: 6.4057\n",
      "Epoch 64/100\n",
      "3553/3553 [==============================] - 20s 6ms/step - loss: 5.2733 - val_loss: 6.4048\n",
      "Epoch 65/100\n",
      "3553/3553 [==============================] - 20s 6ms/step - loss: 5.2732 - val_loss: 6.4043\n",
      "Epoch 66/100\n",
      "3553/3553 [==============================] - 20s 6ms/step - loss: 5.2732 - val_loss: 6.4036\n",
      "Epoch 67/100\n",
      "3553/3553 [==============================] - 20s 6ms/step - loss: 5.2733 - val_loss: 6.4049\n",
      "Epoch 68/100\n",
      "3553/3553 [==============================] - 20s 6ms/step - loss: 5.2730 - val_loss: 6.4073\n",
      "Epoch 69/100\n",
      "3553/3553 [==============================] - 20s 6ms/step - loss: 5.2732 - val_loss: 6.4060\n",
      "Epoch 70/100\n",
      "3553/3553 [==============================] - 20s 6ms/step - loss: 5.2731 - val_loss: 6.4057\n",
      "Epoch 71/100\n",
      "3553/3553 [==============================] - 20s 5ms/step - loss: 5.2731 - val_loss: 6.4045\n",
      "Epoch 72/100\n",
      "3553/3553 [==============================] - 20s 6ms/step - loss: 5.2729 - val_loss: 6.4047\n",
      "Epoch 73/100\n",
      "3553/3553 [==============================] - 20s 6ms/step - loss: 5.2732 - val_loss: 6.4053\n",
      "Epoch 74/100\n",
      "3553/3553 [==============================] - 20s 6ms/step - loss: 5.2732 - val_loss: 6.4048\n",
      "Epoch 75/100\n",
      "3553/3553 [==============================] - 20s 6ms/step - loss: 5.2731 - val_loss: 6.4061\n",
      "Epoch 76/100\n",
      "3553/3553 [==============================] - 20s 6ms/step - loss: 5.2731 - val_loss: 6.4068\n",
      "Epoch 77/100\n",
      "3553/3553 [==============================] - 20s 6ms/step - loss: 5.2732 - val_loss: 6.4043\n",
      "Epoch 78/100\n",
      "3553/3553 [==============================] - 20s 6ms/step - loss: 5.2732 - val_loss: 6.4047\n",
      "Epoch 79/100\n",
      "3553/3553 [==============================] - 20s 6ms/step - loss: 5.2732 - val_loss: 6.4046\n",
      "Epoch 80/100\n",
      "3553/3553 [==============================] - 20s 6ms/step - loss: 5.2731 - val_loss: 6.4043\n",
      "Epoch 81/100\n",
      "3553/3553 [==============================] - 20s 6ms/step - loss: 5.2732 - val_loss: 6.4048\n",
      "Epoch 82/100\n",
      "3553/3553 [==============================] - 20s 6ms/step - loss: 5.2734 - val_loss: 6.4063\n",
      "Epoch 83/100\n",
      "3553/3553 [==============================] - 20s 6ms/step - loss: 5.2732 - val_loss: 6.4047\n",
      "Epoch 84/100\n",
      "3553/3553 [==============================] - 21s 6ms/step - loss: 5.2731 - val_loss: 6.4052\n",
      "Epoch 85/100\n",
      "3553/3553 [==============================] - 20s 6ms/step - loss: 5.2731 - val_loss: 6.4046\n",
      "Epoch 86/100\n",
      "3553/3553 [==============================] - 20s 6ms/step - loss: 5.2731 - val_loss: 6.4038\n",
      "Epoch 87/100\n",
      "3553/3553 [==============================] - 20s 6ms/step - loss: 5.2730 - val_loss: 6.4036\n",
      "Epoch 88/100\n",
      "3553/3553 [==============================] - 21s 6ms/step - loss: 5.2731 - val_loss: 6.4041\n",
      "Epoch 89/100\n",
      "3553/3553 [==============================] - 20s 6ms/step - loss: 5.2732 - val_loss: 6.4046\n",
      "Epoch 90/100\n",
      "3553/3553 [==============================] - 20s 6ms/step - loss: 5.2732 - val_loss: 6.4040\n",
      "Epoch 91/100\n",
      "3553/3553 [==============================] - 20s 6ms/step - loss: 5.2731 - val_loss: 6.4058\n",
      "Epoch 92/100\n",
      "3553/3553 [==============================] - 20s 6ms/step - loss: 5.2731 - val_loss: 6.4058\n",
      "Epoch 93/100\n",
      "3553/3553 [==============================] - 21s 6ms/step - loss: 5.2729 - val_loss: 6.4037\n",
      "Epoch 94/100\n",
      "3553/3553 [==============================] - 21s 6ms/step - loss: 5.2730 - val_loss: 6.4049\n",
      "Epoch 95/100\n",
      "3553/3553 [==============================] - 20s 6ms/step - loss: 5.2733 - val_loss: 6.4042\n",
      "Epoch 96/100\n",
      "3553/3553 [==============================] - 20s 6ms/step - loss: 5.2733 - val_loss: 6.4044\n",
      "Epoch 97/100\n",
      "3553/3553 [==============================] - 20s 6ms/step - loss: 5.2729 - val_loss: 6.4054\n",
      "Epoch 98/100\n",
      "3553/3553 [==============================] - 21s 6ms/step - loss: 5.2732 - val_loss: 6.4058\n",
      "Epoch 99/100\n",
      "3553/3553 [==============================] - 19s 5ms/step - loss: 5.2734 - val_loss: 6.4048\n",
      "Epoch 100/100\n",
      "3553/3553 [==============================] - 20s 6ms/step - loss: 5.2732 - val_loss: 6.4058\n"
     ]
    },
    {
     "data": {
      "text/plain": [
       "<keras.callbacks.History at 0x7e4eed55bad0>"
      ]
     },
     "execution_count": 47,
     "metadata": {},
     "output_type": "execute_result"
    }
   ],
   "source": [
    "# Fit mô hình với dữ liệu huấn luyện\n",
    "model.fit(X_train_reshape, y_train, epochs=100, batch_size=32, validation_data = (X_val_reshape, y_val))"
   ]
  },
  {
   "cell_type": "code",
   "execution_count": 48,
   "id": "dce1f162",
   "metadata": {
    "execution": {
     "iopub.execute_input": "2023-05-05T14:38:45.440717Z",
     "iopub.status.busy": "2023-05-05T14:38:45.440256Z",
     "iopub.status.idle": "2023-05-05T14:38:47.765166Z",
     "shell.execute_reply": "2023-05-05T14:38:47.763965Z"
    },
    "papermill": {
     "duration": 4.652651,
     "end_time": "2023-05-05T14:38:47.767984",
     "exception": false,
     "start_time": "2023-05-05T14:38:43.115333",
     "status": "completed"
    },
    "tags": []
   },
   "outputs": [
    {
     "name": "stdout",
     "output_type": "stream",
     "text": [
      "507/507 [==============================] - 2s 2ms/step\n"
     ]
    },
    {
     "data": {
      "text/plain": [
       "array([0.34101602, 0.34101602, 0.34101602, ..., 0.34101602, 0.34101602,\n",
       "       0.34101602], dtype=float32)"
      ]
     },
     "execution_count": 48,
     "metadata": {},
     "output_type": "execute_result"
    }
   ],
   "source": [
    "y_pred_LSTM = model.predict(X_test_reshape)\n",
    "y_pred_LSTM.flatten()\n"
   ]
  },
  {
   "cell_type": "code",
   "execution_count": 49,
   "id": "a134f17b",
   "metadata": {
    "execution": {
     "iopub.execute_input": "2023-05-05T14:38:52.214181Z",
     "iopub.status.busy": "2023-05-05T14:38:52.213079Z",
     "iopub.status.idle": "2023-05-05T14:39:07.587804Z",
     "shell.execute_reply": "2023-05-05T14:39:07.586384Z"
    },
    "papermill": {
     "duration": 17.643399,
     "end_time": "2023-05-05T14:39:07.591338",
     "exception": false,
     "start_time": "2023-05-05T14:38:49.947939",
     "status": "completed"
    },
    "tags": []
   },
   "outputs": [
    {
     "name": "stdout",
     "output_type": "stream",
     "text": [
      "3553/3553 [==============================] - 9s 2ms/step\n",
      "1002/1002 [==============================] - 2s 2ms/step\n",
      "507/507 [==============================] - 1s 2ms/step\n"
     ]
    }
   ],
   "source": [
    "add_to_dict('LSTM_normal_train',get_scores(y_train, model.predict(X_train_reshape).flatten()),all_RMSE_scores,all_Pearsonr_scores,all_MSE_scores,all_R2_scores)\n",
    "add_to_dict('LSTM_normal_val',get_scores(y_val, model.predict(X_val_reshape).flatten()),all_RMSE_scores,all_Pearsonr_scores,all_MSE_scores,all_R2_scores)\n",
    "add_to_dict('LSTM_normal_test',get_scores(y_test, model.predict(X_test_reshape).flatten()),all_RMSE_scores,all_Pearsonr_scores,all_MSE_scores,all_R2_scores)"
   ]
  },
  {
   "cell_type": "markdown",
   "id": "915bed4a",
   "metadata": {
    "papermill": {
     "duration": 2.307718,
     "end_time": "2023-05-05T14:39:12.210457",
     "exception": false,
     "start_time": "2023-05-05T14:39:09.902739",
     "status": "completed"
    },
    "tags": []
   },
   "source": [
    "## 7.2. LSTM với time series"
   ]
  },
  {
   "cell_type": "markdown",
   "id": "055a9b50",
   "metadata": {
    "papermill": {
     "duration": 2.283694,
     "end_time": "2023-05-05T14:39:16.805839",
     "exception": false,
     "start_time": "2023-05-05T14:39:14.522145",
     "status": "completed"
    },
    "tags": []
   },
   "source": [
    "### Process the data"
   ]
  },
  {
   "cell_type": "code",
   "execution_count": 50,
   "id": "8ec38b0b",
   "metadata": {
    "execution": {
     "iopub.execute_input": "2023-05-05T14:39:21.405829Z",
     "iopub.status.busy": "2023-05-05T14:39:21.405370Z",
     "iopub.status.idle": "2023-05-05T14:39:21.498487Z",
     "shell.execute_reply": "2023-05-05T14:39:21.496870Z"
    },
    "papermill": {
     "duration": 2.381717,
     "end_time": "2023-05-05T14:39:21.501556",
     "exception": false,
     "start_time": "2023-05-05T14:39:19.119839",
     "status": "completed"
    },
    "tags": []
   },
   "outputs": [],
   "source": [
    "X_full = data_df[full_input_features].values\n",
    "y = data_df['value'].values\n"
   ]
  },
  {
   "cell_type": "code",
   "execution_count": 51,
   "id": "46b1dadb",
   "metadata": {
    "execution": {
     "iopub.execute_input": "2023-05-05T14:39:26.073427Z",
     "iopub.status.busy": "2023-05-05T14:39:26.072141Z",
     "iopub.status.idle": "2023-05-05T14:39:26.082243Z",
     "shell.execute_reply": "2023-05-05T14:39:26.081226Z"
    },
    "papermill": {
     "duration": 2.301381,
     "end_time": "2023-05-05T14:39:26.085103",
     "exception": false,
     "start_time": "2023-05-05T14:39:23.783722",
     "status": "completed"
    },
    "tags": []
   },
   "outputs": [
    {
     "data": {
      "text/plain": [
       "array([[ 209.43859863,  209.35040283,  209.15534973, ...,    9.        ,\n",
       "        2019.        ,    0.        ],\n",
       "       [ 216.82685852,  219.20097351,  227.15180969, ...,    9.        ,\n",
       "        2019.        ,    6.        ],\n",
       "       [ 241.4364624 ,  249.24224854,  275.17404175, ...,    9.        ,\n",
       "        2019.        ,    7.        ],\n",
       "       ...,\n",
       "       [ 228.0683136 ,  232.74804688,  244.76976013, ...,   10.        ,\n",
       "        2019.        ,   21.        ],\n",
       "       [ 235.44873047,  241.35107422,  256.68945312, ...,   10.        ,\n",
       "        2019.        ,   22.        ],\n",
       "       [ 235.67256165,  241.28044128,  256.39883423, ...,   10.        ,\n",
       "        2019.        ,   23.        ]])"
      ]
     },
     "execution_count": 51,
     "metadata": {},
     "output_type": "execute_result"
    }
   ],
   "source": [
    "X_full"
   ]
  },
  {
   "cell_type": "code",
   "execution_count": 52,
   "id": "cafd106a",
   "metadata": {
    "execution": {
     "iopub.execute_input": "2023-05-05T14:39:30.689817Z",
     "iopub.status.busy": "2023-05-05T14:39:30.689387Z",
     "iopub.status.idle": "2023-05-05T14:39:30.777787Z",
     "shell.execute_reply": "2023-05-05T14:39:30.776455Z"
    },
    "papermill": {
     "duration": 2.408579,
     "end_time": "2023-05-05T14:39:30.781036",
     "exception": false,
     "start_time": "2023-05-05T14:39:28.372457",
     "status": "completed"
    },
    "tags": []
   },
   "outputs": [],
   "source": [
    "X_train_TS , X_test_TS, y_train_TS, y_test_TS = train_test_split(X_full, y, test_size = 0.1, shuffle=False,random_state=42)\n",
    "X_train_TS , X_val_TS, y_train_TS, y_val_TS = train_test_split(X_train_TS, y_train_TS, test_size = 0.22, shuffle=False,random_state=42)\n"
   ]
  },
  {
   "cell_type": "code",
   "execution_count": 53,
   "id": "1202a096",
   "metadata": {
    "execution": {
     "iopub.execute_input": "2023-05-05T14:39:35.424081Z",
     "iopub.status.busy": "2023-05-05T14:39:35.423630Z",
     "iopub.status.idle": "2023-05-05T14:39:35.431686Z",
     "shell.execute_reply": "2023-05-05T14:39:35.429984Z"
    },
    "papermill": {
     "duration": 2.288486,
     "end_time": "2023-05-05T14:39:35.434531",
     "exception": false,
     "start_time": "2023-05-05T14:39:33.146045",
     "status": "completed"
    },
    "tags": []
   },
   "outputs": [
    {
     "data": {
      "text/plain": [
       "(113676, 18)"
      ]
     },
     "execution_count": 53,
     "metadata": {},
     "output_type": "execute_result"
    }
   ],
   "source": [
    "# Làm nó chia được cho 3\n",
    "X_train_TS = X_train_TS[0:-2]\n",
    "X_train_TS.shape"
   ]
  },
  {
   "cell_type": "code",
   "execution_count": 54,
   "id": "b833529c",
   "metadata": {
    "execution": {
     "iopub.execute_input": "2023-05-05T14:39:40.049207Z",
     "iopub.status.busy": "2023-05-05T14:39:40.048433Z",
     "iopub.status.idle": "2023-05-05T14:39:40.054615Z",
     "shell.execute_reply": "2023-05-05T14:39:40.053620Z"
    },
    "papermill": {
     "duration": 2.335206,
     "end_time": "2023-05-05T14:39:40.056911",
     "exception": false,
     "start_time": "2023-05-05T14:39:37.721705",
     "status": "completed"
    },
    "tags": []
   },
   "outputs": [
    {
     "name": "stdout",
     "output_type": "stream",
     "text": [
      "(32064, 18)\n",
      "(16194, 18)\n"
     ]
    }
   ],
   "source": [
    "print(X_val_TS.shape)\n",
    "print(X_test_TS.shape)"
   ]
  },
  {
   "cell_type": "code",
   "execution_count": 55,
   "id": "27d107f4",
   "metadata": {
    "execution": {
     "iopub.execute_input": "2023-05-05T14:39:44.641145Z",
     "iopub.status.busy": "2023-05-05T14:39:44.640322Z",
     "iopub.status.idle": "2023-05-05T14:39:44.648892Z",
     "shell.execute_reply": "2023-05-05T14:39:44.647812Z"
    },
    "papermill": {
     "duration": 2.303334,
     "end_time": "2023-05-05T14:39:44.651314",
     "exception": false,
     "start_time": "2023-05-05T14:39:42.347980",
     "status": "completed"
    },
    "tags": []
   },
   "outputs": [
    {
     "data": {
      "text/plain": [
       "(37892, 3, 18)"
      ]
     },
     "execution_count": 55,
     "metadata": {},
     "output_type": "execute_result"
    }
   ],
   "source": [
    "X_train_TS = X_train_TS.reshape((-1,3,18))\n",
    "X_val_TS = X_val_TS.reshape((-1,3,18))\n",
    "X_test_TS = X_test_TS.reshape((-1,3,18))\n",
    "X_train_TS.shape"
   ]
  },
  {
   "cell_type": "code",
   "execution_count": 56,
   "id": "26cff6b6",
   "metadata": {
    "execution": {
     "iopub.execute_input": "2023-05-05T14:39:49.230767Z",
     "iopub.status.busy": "2023-05-05T14:39:49.229930Z",
     "iopub.status.idle": "2023-05-05T14:39:49.236325Z",
     "shell.execute_reply": "2023-05-05T14:39:49.235368Z"
    },
    "papermill": {
     "duration": 2.290224,
     "end_time": "2023-05-05T14:39:49.239055",
     "exception": false,
     "start_time": "2023-05-05T14:39:46.948831",
     "status": "completed"
    },
    "tags": []
   },
   "outputs": [],
   "source": [
    "y_train_TS = y_train_TS[np.arange(2,113677,3)]\n",
    "y_val_TS = y_val_TS[np.arange(2,32065,3)]\n",
    "y_test_TS = y_test_TS[np.arange(2,16195,3)]"
   ]
  },
  {
   "cell_type": "code",
   "execution_count": 57,
   "id": "20e957fa",
   "metadata": {
    "execution": {
     "iopub.execute_input": "2023-05-05T14:39:53.808786Z",
     "iopub.status.busy": "2023-05-05T14:39:53.807955Z",
     "iopub.status.idle": "2023-05-05T14:39:53.814352Z",
     "shell.execute_reply": "2023-05-05T14:39:53.813391Z"
    },
    "papermill": {
     "duration": 2.270318,
     "end_time": "2023-05-05T14:39:53.816667",
     "exception": false,
     "start_time": "2023-05-05T14:39:51.546349",
     "status": "completed"
    },
    "tags": []
   },
   "outputs": [
    {
     "data": {
      "text/plain": [
       "(37892,)"
      ]
     },
     "execution_count": 57,
     "metadata": {},
     "output_type": "execute_result"
    }
   ],
   "source": [
    "y_train_TS.shape"
   ]
  },
  {
   "cell_type": "markdown",
   "id": "fedab221",
   "metadata": {
    "papermill": {
     "duration": 2.288047,
     "end_time": "2023-05-05T14:39:58.378860",
     "exception": false,
     "start_time": "2023-05-05T14:39:56.090813",
     "status": "completed"
    },
    "tags": []
   },
   "source": [
    "### Build the model"
   ]
  },
  {
   "cell_type": "code",
   "execution_count": 58,
   "id": "109d4a08",
   "metadata": {
    "execution": {
     "iopub.execute_input": "2023-05-05T14:40:03.073876Z",
     "iopub.status.busy": "2023-05-05T14:40:03.073130Z",
     "iopub.status.idle": "2023-05-05T14:40:03.756951Z",
     "shell.execute_reply": "2023-05-05T14:40:03.755456Z"
    },
    "papermill": {
     "duration": 3.104375,
     "end_time": "2023-05-05T14:40:03.765335",
     "exception": false,
     "start_time": "2023-05-05T14:40:00.660960",
     "status": "completed"
    },
    "tags": []
   },
   "outputs": [
    {
     "name": "stdout",
     "output_type": "stream",
     "text": [
      "Model: \"sequential_1\"\n",
      "_________________________________________________________________\n",
      " Layer (type)                Output Shape              Param #   \n",
      "=================================================================\n",
      " lstm_3 (LSTM)               (None, 3, 64)             21248     \n",
      "                                                                 \n",
      " lstm_4 (LSTM)               (None, 3, 64)             33024     \n",
      "                                                                 \n",
      " lstm_5 (LSTM)               (None, 3, 32)             12416     \n",
      "                                                                 \n",
      " dropout_1 (Dropout)         (None, 3, 32)             0         \n",
      "                                                                 \n",
      " batch_normalization_1 (Batc  (None, 3, 32)            128       \n",
      " hNormalization)                                                 \n",
      "                                                                 \n",
      " lstm_6 (LSTM)               (None, 3, 16)             3136      \n",
      "                                                                 \n",
      " lstm_7 (LSTM)               (None, 3, 8)              800       \n",
      "                                                                 \n",
      " lstm_8 (LSTM)               (None, 3, 8)              544       \n",
      "                                                                 \n",
      " dense_1 (Dense)             (None, 3, 1)              9         \n",
      "                                                                 \n",
      "=================================================================\n",
      "Total params: 71,305\n",
      "Trainable params: 71,241\n",
      "Non-trainable params: 64\n",
      "_________________________________________________________________\n",
      "None\n"
     ]
    }
   ],
   "source": [
    "# Khởi tạo mô hình\n",
    "model = Sequential()\n",
    "\n",
    "# Thêm lớp LSTM với 32 units\n",
    "model.add(LSTM(64, activation='relu', input_shape=(3, 18), return_sequences=True))\n",
    "model.add(LSTM(64, activation='relu', return_sequences=True))\n",
    "model.add(LSTM(32, activation='relu', return_sequences=True))\n",
    "model.add(Dropout(0.3))\n",
    "model.add(BatchNormalization())\n",
    "model.add(LSTM(16, activation='relu', return_sequences=True))\n",
    "model.add(LSTM(8, activation='relu', return_sequences=True))\n",
    "model.add(LSTM(8, activation='relu', return_sequences=True))\n",
    "# Thêm lớp dense với 1 unit để dự đoán đầu ra\n",
    "model.add(Dense(1))\n",
    "print(model.summary())\n"
   ]
  },
  {
   "cell_type": "code",
   "execution_count": 59,
   "id": "685db82f",
   "metadata": {
    "execution": {
     "iopub.execute_input": "2023-05-05T14:40:08.347823Z",
     "iopub.status.busy": "2023-05-05T14:40:08.347397Z",
     "iopub.status.idle": "2023-05-05T14:40:08.361234Z",
     "shell.execute_reply": "2023-05-05T14:40:08.359871Z"
    },
    "papermill": {
     "duration": 2.301534,
     "end_time": "2023-05-05T14:40:08.364117",
     "exception": false,
     "start_time": "2023-05-05T14:40:06.062583",
     "status": "completed"
    },
    "tags": []
   },
   "outputs": [],
   "source": [
    "model.compile(optimizer=Adam(learning_rate = 0.001), loss='mse')\n"
   ]
  },
  {
   "cell_type": "code",
   "execution_count": 60,
   "id": "be77a8e9",
   "metadata": {
    "execution": {
     "iopub.execute_input": "2023-05-05T14:40:12.994865Z",
     "iopub.status.busy": "2023-05-05T14:40:12.994158Z",
     "iopub.status.idle": "2023-05-05T15:10:42.981118Z",
     "shell.execute_reply": "2023-05-05T15:10:42.979527Z"
    },
    "papermill": {
     "duration": 1836.651551,
     "end_time": "2023-05-05T15:10:47.300692",
     "exception": false,
     "start_time": "2023-05-05T14:40:10.649141",
     "status": "completed"
    },
    "tags": []
   },
   "outputs": [
    {
     "name": "stdout",
     "output_type": "stream",
     "text": [
      "Epoch 1/100\n",
      "1185/1185 [==============================] - 26s 15ms/step - loss: 6.0057 - val_loss: 3.8648\n",
      "Epoch 2/100\n",
      "1185/1185 [==============================] - 17s 14ms/step - loss: 5.9941 - val_loss: 3.8613\n",
      "Epoch 3/100\n",
      "1185/1185 [==============================] - 18s 15ms/step - loss: 5.9933 - val_loss: 3.8783\n",
      "Epoch 4/100\n",
      "1185/1185 [==============================] - 19s 16ms/step - loss: 5.9927 - val_loss: 3.8670\n",
      "Epoch 5/100\n",
      "1185/1185 [==============================] - 17s 14ms/step - loss: 5.9923 - val_loss: 3.8653\n",
      "Epoch 6/100\n",
      "1185/1185 [==============================] - 18s 16ms/step - loss: 5.9923 - val_loss: 3.8752\n",
      "Epoch 7/100\n",
      "1185/1185 [==============================] - 18s 15ms/step - loss: 5.9924 - val_loss: 3.8704\n",
      "Epoch 8/100\n",
      "1185/1185 [==============================] - 17s 14ms/step - loss: 5.9920 - val_loss: 3.8603\n",
      "Epoch 9/100\n",
      "1185/1185 [==============================] - 18s 15ms/step - loss: 5.9921 - val_loss: 3.8698\n",
      "Epoch 10/100\n",
      "1185/1185 [==============================] - 18s 15ms/step - loss: 5.9923 - val_loss: 3.8661\n",
      "Epoch 11/100\n",
      "1185/1185 [==============================] - 17s 15ms/step - loss: 5.9923 - val_loss: 3.8600\n",
      "Epoch 12/100\n",
      "1185/1185 [==============================] - 18s 15ms/step - loss: 5.9919 - val_loss: 3.8694\n",
      "Epoch 13/100\n",
      "1185/1185 [==============================] - 17s 15ms/step - loss: 5.9922 - val_loss: 3.8686\n",
      "Epoch 14/100\n",
      "1185/1185 [==============================] - 18s 15ms/step - loss: 5.9922 - val_loss: 3.8628\n",
      "Epoch 15/100\n",
      "1185/1185 [==============================] - 19s 16ms/step - loss: 5.9920 - val_loss: 3.8691\n",
      "Epoch 16/100\n",
      "1185/1185 [==============================] - 18s 16ms/step - loss: 5.9921 - val_loss: 3.8679\n",
      "Epoch 17/100\n",
      "1185/1185 [==============================] - 19s 16ms/step - loss: 5.9921 - val_loss: 3.8611\n",
      "Epoch 18/100\n",
      "1185/1185 [==============================] - 18s 16ms/step - loss: 5.9922 - val_loss: 3.8651\n",
      "Epoch 19/100\n",
      "1185/1185 [==============================] - 19s 16ms/step - loss: 5.9920 - val_loss: 3.8668\n",
      "Epoch 20/100\n",
      "1185/1185 [==============================] - 18s 15ms/step - loss: 5.9921 - val_loss: 3.8651\n",
      "Epoch 21/100\n",
      "1185/1185 [==============================] - 17s 15ms/step - loss: 5.9922 - val_loss: 3.8634\n",
      "Epoch 22/100\n",
      "1185/1185 [==============================] - 17s 14ms/step - loss: 5.9917 - val_loss: 3.8618\n",
      "Epoch 23/100\n",
      "1185/1185 [==============================] - 18s 16ms/step - loss: 5.9922 - val_loss: 3.8630\n",
      "Epoch 24/100\n",
      "1185/1185 [==============================] - 17s 14ms/step - loss: 5.9919 - val_loss: 3.8728\n",
      "Epoch 25/100\n",
      "1185/1185 [==============================] - 18s 16ms/step - loss: 5.9916 - val_loss: 3.8626\n",
      "Epoch 26/100\n",
      "1185/1185 [==============================] - 18s 15ms/step - loss: 5.9917 - val_loss: 3.8632\n",
      "Epoch 27/100\n",
      "1185/1185 [==============================] - 18s 16ms/step - loss: 5.9921 - val_loss: 3.8663\n",
      "Epoch 28/100\n",
      "1185/1185 [==============================] - 18s 15ms/step - loss: 5.9920 - val_loss: 3.8653\n",
      "Epoch 29/100\n",
      "1185/1185 [==============================] - 18s 15ms/step - loss: 5.9918 - val_loss: 3.8616\n",
      "Epoch 30/100\n",
      "1185/1185 [==============================] - 18s 15ms/step - loss: 5.9916 - val_loss: 3.8702\n",
      "Epoch 31/100\n",
      "1185/1185 [==============================] - 19s 16ms/step - loss: 5.9915 - val_loss: 3.8623\n",
      "Epoch 32/100\n",
      "1185/1185 [==============================] - 18s 15ms/step - loss: 5.9918 - val_loss: 3.8730\n",
      "Epoch 33/100\n",
      "1185/1185 [==============================] - 19s 16ms/step - loss: 5.9919 - val_loss: 3.8693\n",
      "Epoch 34/100\n",
      "1185/1185 [==============================] - 17s 14ms/step - loss: 5.9921 - val_loss: 3.8676\n",
      "Epoch 35/100\n",
      "1185/1185 [==============================] - 17s 15ms/step - loss: 5.9922 - val_loss: 3.8680\n",
      "Epoch 36/100\n",
      "1185/1185 [==============================] - 17s 14ms/step - loss: 5.9920 - val_loss: 3.8664\n",
      "Epoch 37/100\n",
      "1185/1185 [==============================] - 18s 15ms/step - loss: 5.9919 - val_loss: 3.8705\n",
      "Epoch 38/100\n",
      "1185/1185 [==============================] - 17s 14ms/step - loss: 5.9922 - val_loss: 3.8660\n",
      "Epoch 39/100\n",
      "1185/1185 [==============================] - 19s 16ms/step - loss: 5.9918 - val_loss: 3.8634\n",
      "Epoch 40/100\n",
      "1185/1185 [==============================] - 17s 14ms/step - loss: 5.9920 - val_loss: 3.8660\n",
      "Epoch 41/100\n",
      "1185/1185 [==============================] - 18s 16ms/step - loss: 5.9919 - val_loss: 3.8678\n",
      "Epoch 42/100\n",
      "1185/1185 [==============================] - 18s 15ms/step - loss: 5.9920 - val_loss: 3.8652\n",
      "Epoch 43/100\n",
      "1185/1185 [==============================] - 17s 15ms/step - loss: 5.9918 - val_loss: 3.8708\n",
      "Epoch 44/100\n",
      "1185/1185 [==============================] - 17s 14ms/step - loss: 5.9921 - val_loss: 3.8661\n",
      "Epoch 45/100\n",
      "1185/1185 [==============================] - 19s 16ms/step - loss: 5.9917 - val_loss: 3.8613\n",
      "Epoch 46/100\n",
      "1185/1185 [==============================] - 17s 14ms/step - loss: 5.9921 - val_loss: 3.8662\n",
      "Epoch 47/100\n",
      "1185/1185 [==============================] - 17s 15ms/step - loss: 5.9917 - val_loss: 3.8651\n",
      "Epoch 48/100\n",
      "1185/1185 [==============================] - 17s 14ms/step - loss: 5.9918 - val_loss: 3.8674\n",
      "Epoch 49/100\n",
      "1185/1185 [==============================] - 18s 15ms/step - loss: 5.9920 - val_loss: 3.8647\n",
      "Epoch 50/100\n",
      "1185/1185 [==============================] - 17s 14ms/step - loss: 5.9918 - val_loss: 3.8682\n",
      "Epoch 51/100\n",
      "1185/1185 [==============================] - 18s 15ms/step - loss: 5.9918 - val_loss: 3.8711\n",
      "Epoch 52/100\n",
      "1185/1185 [==============================] - 18s 15ms/step - loss: 5.9919 - val_loss: 3.8650\n",
      "Epoch 53/100\n",
      "1185/1185 [==============================] - 18s 15ms/step - loss: 5.9917 - val_loss: 3.8650\n",
      "Epoch 54/100\n",
      "1185/1185 [==============================] - 17s 14ms/step - loss: 5.9918 - val_loss: 3.8679\n",
      "Epoch 55/100\n",
      "1185/1185 [==============================] - 17s 15ms/step - loss: 5.9918 - val_loss: 3.8692\n",
      "Epoch 56/100\n",
      "1185/1185 [==============================] - 17s 14ms/step - loss: 5.9917 - val_loss: 3.8674\n",
      "Epoch 57/100\n",
      "1185/1185 [==============================] - 17s 15ms/step - loss: 5.9919 - val_loss: 3.8676\n",
      "Epoch 58/100\n",
      "1185/1185 [==============================] - 18s 15ms/step - loss: 5.9919 - val_loss: 3.8638\n",
      "Epoch 59/100\n",
      "1185/1185 [==============================] - 17s 14ms/step - loss: 5.9918 - val_loss: 3.8656\n",
      "Epoch 60/100\n",
      "1185/1185 [==============================] - 18s 15ms/step - loss: 5.9917 - val_loss: 3.8652\n",
      "Epoch 61/100\n",
      "1185/1185 [==============================] - 19s 16ms/step - loss: 5.9919 - val_loss: 3.8638\n",
      "Epoch 62/100\n",
      "1185/1185 [==============================] - 17s 14ms/step - loss: 5.9918 - val_loss: 3.8650\n",
      "Epoch 63/100\n",
      "1185/1185 [==============================] - 17s 15ms/step - loss: 5.9915 - val_loss: 3.8718\n",
      "Epoch 64/100\n",
      "1185/1185 [==============================] - 18s 15ms/step - loss: 5.9919 - val_loss: 3.8681\n",
      "Epoch 65/100\n",
      "1185/1185 [==============================] - 19s 16ms/step - loss: 5.9918 - val_loss: 3.8671\n",
      "Epoch 66/100\n",
      "1185/1185 [==============================] - 18s 15ms/step - loss: 5.9917 - val_loss: 3.8719\n",
      "Epoch 67/100\n",
      "1185/1185 [==============================] - 18s 15ms/step - loss: 5.9917 - val_loss: 3.8701\n",
      "Epoch 68/100\n",
      "1185/1185 [==============================] - 16s 14ms/step - loss: 5.9919 - val_loss: 3.8639\n",
      "Epoch 69/100\n",
      "1185/1185 [==============================] - 17s 15ms/step - loss: 5.9918 - val_loss: 3.8703\n",
      "Epoch 70/100\n",
      "1185/1185 [==============================] - 17s 14ms/step - loss: 5.9917 - val_loss: 3.8686\n",
      "Epoch 71/100\n",
      "1185/1185 [==============================] - 18s 15ms/step - loss: 5.9918 - val_loss: 3.8675\n",
      "Epoch 72/100\n",
      "1185/1185 [==============================] - 17s 14ms/step - loss: 5.9918 - val_loss: 3.8662\n",
      "Epoch 73/100\n",
      "1185/1185 [==============================] - 17s 15ms/step - loss: 5.9918 - val_loss: 3.8646\n",
      "Epoch 74/100\n",
      "1185/1185 [==============================] - 17s 14ms/step - loss: 5.9917 - val_loss: 3.8662\n",
      "Epoch 75/100\n",
      "1185/1185 [==============================] - 17s 15ms/step - loss: 5.9916 - val_loss: 3.8731\n",
      "Epoch 76/100\n",
      "1185/1185 [==============================] - 18s 15ms/step - loss: 5.9919 - val_loss: 3.8657\n",
      "Epoch 77/100\n",
      "1185/1185 [==============================] - 17s 15ms/step - loss: 5.9916 - val_loss: 3.8628\n",
      "Epoch 78/100\n",
      "1185/1185 [==============================] - 17s 14ms/step - loss: 5.9917 - val_loss: 3.8670\n",
      "Epoch 79/100\n",
      "1185/1185 [==============================] - 17s 15ms/step - loss: 5.9914 - val_loss: 3.8632\n",
      "Epoch 80/100\n",
      "1185/1185 [==============================] - 17s 14ms/step - loss: 5.9918 - val_loss: 3.8625\n",
      "Epoch 81/100\n",
      "1185/1185 [==============================] - 17s 15ms/step - loss: 5.9919 - val_loss: 3.8628\n",
      "Epoch 82/100\n",
      "1185/1185 [==============================] - 17s 14ms/step - loss: 5.9919 - val_loss: 3.8633\n",
      "Epoch 83/100\n",
      "1185/1185 [==============================] - 19s 16ms/step - loss: 5.9920 - val_loss: 3.8658\n",
      "Epoch 84/100\n",
      "1185/1185 [==============================] - 18s 15ms/step - loss: 5.9919 - val_loss: 3.8653\n",
      "Epoch 85/100\n",
      "1185/1185 [==============================] - 18s 15ms/step - loss: 5.9917 - val_loss: 3.8633\n",
      "Epoch 86/100\n",
      "1185/1185 [==============================] - 18s 15ms/step - loss: 5.9918 - val_loss: 3.8645\n",
      "Epoch 87/100\n",
      "1185/1185 [==============================] - 19s 16ms/step - loss: 5.9918 - val_loss: 3.8671\n",
      "Epoch 88/100\n",
      "1185/1185 [==============================] - 17s 14ms/step - loss: 5.9916 - val_loss: 3.8633\n",
      "Epoch 89/100\n",
      "1185/1185 [==============================] - 17s 15ms/step - loss: 5.9920 - val_loss: 3.8666\n",
      "Epoch 90/100\n",
      "1185/1185 [==============================] - 17s 14ms/step - loss: 5.9918 - val_loss: 3.8668\n",
      "Epoch 91/100\n",
      "1185/1185 [==============================] - 17s 14ms/step - loss: 5.9916 - val_loss: 3.8622\n",
      "Epoch 92/100\n",
      "1185/1185 [==============================] - 17s 14ms/step - loss: 5.9919 - val_loss: 3.8652\n",
      "Epoch 93/100\n",
      "1185/1185 [==============================] - 17s 14ms/step - loss: 5.9917 - val_loss: 3.8691\n",
      "Epoch 94/100\n",
      "1185/1185 [==============================] - 17s 15ms/step - loss: 5.9918 - val_loss: 3.8670\n",
      "Epoch 95/100\n",
      "1185/1185 [==============================] - 17s 14ms/step - loss: 5.9918 - val_loss: 3.8680\n",
      "Epoch 96/100\n",
      "1185/1185 [==============================] - 19s 16ms/step - loss: 5.9917 - val_loss: 3.8678\n",
      "Epoch 97/100\n",
      "1185/1185 [==============================] - 17s 14ms/step - loss: 5.9918 - val_loss: 3.8680\n",
      "Epoch 98/100\n",
      "1185/1185 [==============================] - 19s 16ms/step - loss: 5.9916 - val_loss: 3.8725\n",
      "Epoch 99/100\n",
      "1185/1185 [==============================] - 17s 14ms/step - loss: 5.9918 - val_loss: 3.8650\n",
      "Epoch 100/100\n",
      "1185/1185 [==============================] - 19s 16ms/step - loss: 5.9918 - val_loss: 3.8678\n"
     ]
    },
    {
     "data": {
      "text/plain": [
       "<keras.callbacks.History at 0x7e4ecd5d6890>"
      ]
     },
     "execution_count": 60,
     "metadata": {},
     "output_type": "execute_result"
    }
   ],
   "source": [
    "model.fit(X_train_TS, y_train_TS, epochs=100, batch_size=32, validation_data = (X_val_TS, y_val_TS))"
   ]
  },
  {
   "cell_type": "markdown",
   "id": "d92be597",
   "metadata": {
    "papermill": {
     "duration": 4.181098,
     "end_time": "2023-05-05T15:10:55.717130",
     "exception": false,
     "start_time": "2023-05-05T15:10:51.536032",
     "status": "completed"
    },
    "tags": []
   },
   "source": [
    "### Get the result"
   ]
  },
  {
   "cell_type": "code",
   "execution_count": 61,
   "id": "46860aca",
   "metadata": {
    "execution": {
     "iopub.execute_input": "2023-05-05T15:11:04.295171Z",
     "iopub.status.busy": "2023-05-05T15:11:04.294286Z",
     "iopub.status.idle": "2023-05-05T15:11:11.817707Z",
     "shell.execute_reply": "2023-05-05T15:11:11.816623Z"
    },
    "papermill": {
     "duration": 11.764972,
     "end_time": "2023-05-05T15:11:11.823579",
     "exception": false,
     "start_time": "2023-05-05T15:11:00.058607",
     "status": "completed"
    },
    "tags": []
   },
   "outputs": [
    {
     "name": "stdout",
     "output_type": "stream",
     "text": [
      "(37892,)\n",
      "1185/1185 [==============================] - 7s 5ms/step\n",
      "(37892,)\n"
     ]
    }
   ],
   "source": [
    "print(y_train_TS.shape)\n",
    "print(model.predict(X_train_TS).flatten()[np.arange(0,len(y_train_TS),1)].shape)"
   ]
  },
  {
   "cell_type": "code",
   "execution_count": 62,
   "id": "39d21518",
   "metadata": {
    "execution": {
     "iopub.execute_input": "2023-05-05T15:11:20.384979Z",
     "iopub.status.busy": "2023-05-05T15:11:20.383703Z",
     "iopub.status.idle": "2023-05-05T15:11:33.775261Z",
     "shell.execute_reply": "2023-05-05T15:11:33.773902Z"
    },
    "papermill": {
     "duration": 17.728871,
     "end_time": "2023-05-05T15:11:33.778630",
     "exception": false,
     "start_time": "2023-05-05T15:11:16.049759",
     "status": "completed"
    },
    "tags": []
   },
   "outputs": [
    {
     "name": "stdout",
     "output_type": "stream",
     "text": [
      "1185/1185 [==============================] - 6s 5ms/step\n",
      "334/334 [==============================] - 2s 5ms/step\n",
      "169/169 [==============================] - 1s 5ms/step\n"
     ]
    }
   ],
   "source": [
    "add_to_dict('LSTM_time_series_train',get_scores(y_train_TS, model.predict(X_train_TS).flatten()[np.arange(0,len(y_train_TS),1)]),all_RMSE_scores,all_Pearsonr_scores,all_MSE_scores,all_R2_scores)\n",
    "add_to_dict('LSTM_time_series_val',get_scores(y_val_TS, model.predict(X_val_TS).flatten()[np.arange(0,len(y_val_TS),1)]),all_RMSE_scores,all_Pearsonr_scores,all_MSE_scores,all_R2_scores)\n",
    "add_to_dict('LSTM_time_series_test',get_scores(y_test_TS, model.predict(X_test_TS).flatten()[np.arange(0,len(y_test_TS),1)]),all_RMSE_scores,all_Pearsonr_scores,all_MSE_scores,all_R2_scores)"
   ]
  },
  {
   "cell_type": "markdown",
   "id": "8bd6f66f",
   "metadata": {
    "papermill": {
     "duration": 4.439609,
     "end_time": "2023-05-05T15:11:42.455791",
     "exception": false,
     "start_time": "2023-05-05T15:11:38.016182",
     "status": "completed"
    },
    "tags": []
   },
   "source": [
    "# 8. Random forest regressor"
   ]
  },
  {
   "cell_type": "code",
   "execution_count": 63,
   "id": "fe2c047b",
   "metadata": {
    "execution": {
     "iopub.execute_input": "2023-05-05T15:11:50.947376Z",
     "iopub.status.busy": "2023-05-05T15:11:50.946923Z",
     "iopub.status.idle": "2023-05-05T15:23:27.183103Z",
     "shell.execute_reply": "2023-05-05T15:23:27.181611Z"
    },
    "papermill": {
     "duration": 704.898801,
     "end_time": "2023-05-05T15:23:31.624745",
     "exception": false,
     "start_time": "2023-05-05T15:11:46.725944",
     "status": "completed"
    },
    "tags": []
   },
   "outputs": [
    {
     "data": {
      "text/plain": [
       "RandomForestRegressor(n_estimators=300)"
      ]
     },
     "execution_count": 63,
     "metadata": {},
     "output_type": "execute_result"
    }
   ],
   "source": [
    "regr = RandomForestRegressor(n_estimators=300)\n",
    "regr.fit(X_train_full,y_train)"
   ]
  },
  {
   "cell_type": "code",
   "execution_count": 64,
   "id": "6517ffff",
   "metadata": {
    "execution": {
     "iopub.execute_input": "2023-05-05T15:23:40.279165Z",
     "iopub.status.busy": "2023-05-05T15:23:40.278710Z",
     "iopub.status.idle": "2023-05-05T15:23:41.596349Z",
     "shell.execute_reply": "2023-05-05T15:23:41.593866Z"
    },
    "papermill": {
     "duration": 5.7529,
     "end_time": "2023-05-05T15:23:41.602629",
     "exception": false,
     "start_time": "2023-05-05T15:23:35.849729",
     "status": "completed"
    },
    "tags": []
   },
   "outputs": [
    {
     "name": "stdout",
     "output_type": "stream",
     "text": [
      "[4.503930628377142, 0.5312186551056548, 2.122246599332213, 0.2774889392336075]\n"
     ]
    }
   ],
   "source": [
    "print(get_scores(y_test, regr.predict(X_test_full)))"
   ]
  },
  {
   "cell_type": "code",
   "execution_count": 65,
   "id": "6a584caf",
   "metadata": {
    "execution": {
     "iopub.execute_input": "2023-05-05T15:23:50.055199Z",
     "iopub.status.busy": "2023-05-05T15:23:50.054600Z",
     "iopub.status.idle": "2023-05-05T15:23:57.945681Z",
     "shell.execute_reply": "2023-05-05T15:23:57.943804Z"
    },
    "papermill": {
     "duration": 12.084995,
     "end_time": "2023-05-05T15:23:57.950741",
     "exception": false,
     "start_time": "2023-05-05T15:23:45.865746",
     "status": "completed"
    },
    "tags": []
   },
   "outputs": [],
   "source": [
    "add_to_dict('Random_forest_test',get_scores(y_test, regr.predict(X_test_full)),all_RMSE_scores,all_Pearsonr_scores,all_MSE_scores,all_R2_scores)\n",
    "add_to_dict('Random_forest_train',get_scores(y_train, regr.predict(X_train_full)),all_RMSE_scores,all_Pearsonr_scores,all_MSE_scores,all_R2_scores)"
   ]
  },
  {
   "cell_type": "markdown",
   "id": "1935d09f",
   "metadata": {
    "papermill": {
     "duration": 4.185192,
     "end_time": "2023-05-05T15:24:06.531138",
     "exception": false,
     "start_time": "2023-05-05T15:24:02.345946",
     "status": "completed"
    },
    "tags": []
   },
   "source": [
    "# Compare the result"
   ]
  },
  {
   "cell_type": "markdown",
   "id": "ce70529a",
   "metadata": {
    "papermill": {
     "duration": 4.22627,
     "end_time": "2023-05-05T15:24:15.118146",
     "exception": false,
     "start_time": "2023-05-05T15:24:10.891876",
     "status": "completed"
    },
    "tags": []
   },
   "source": [
    "## Get the IMERG result"
   ]
  },
  {
   "cell_type": "code",
   "execution_count": 66,
   "id": "721cac5a",
   "metadata": {
    "execution": {
     "iopub.execute_input": "2023-05-05T15:24:23.720482Z",
     "iopub.status.busy": "2023-05-05T15:24:23.720028Z",
     "iopub.status.idle": "2023-05-05T15:24:23.726376Z",
     "shell.execute_reply": "2023-05-05T15:24:23.725047Z"
    },
    "papermill": {
     "duration": 4.243152,
     "end_time": "2023-05-05T15:24:23.728914",
     "exception": false,
     "start_time": "2023-05-05T15:24:19.485762",
     "status": "completed"
    },
    "tags": []
   },
   "outputs": [],
   "source": [
    "X = data_df['IMERG'].values\n",
    "y = data_df['value'].values"
   ]
  },
  {
   "cell_type": "code",
   "execution_count": 67,
   "id": "c347621c",
   "metadata": {
    "execution": {
     "iopub.execute_input": "2023-05-05T15:24:32.172297Z",
     "iopub.status.busy": "2023-05-05T15:24:32.171639Z",
     "iopub.status.idle": "2023-05-05T15:24:32.195386Z",
     "shell.execute_reply": "2023-05-05T15:24:32.192272Z"
    },
    "papermill": {
     "duration": 4.234739,
     "end_time": "2023-05-05T15:24:32.200559",
     "exception": false,
     "start_time": "2023-05-05T15:24:27.965820",
     "status": "completed"
    },
    "tags": []
   },
   "outputs": [],
   "source": [
    "add_to_dict('IMERG',get_scores(y, X),all_RMSE_scores,all_Pearsonr_scores,all_MSE_scores,all_R2_scores)"
   ]
  },
  {
   "cell_type": "markdown",
   "id": "53d2adc1",
   "metadata": {
    "papermill": {
     "duration": 4.263975,
     "end_time": "2023-05-05T15:24:40.889612",
     "exception": false,
     "start_time": "2023-05-05T15:24:36.625637",
     "status": "completed"
    },
    "tags": []
   },
   "source": [
    "## Plot bar chart"
   ]
  },
  {
   "cell_type": "code",
   "execution_count": 68,
   "id": "750b1b41",
   "metadata": {
    "execution": {
     "iopub.execute_input": "2023-05-05T15:24:49.474958Z",
     "iopub.status.busy": "2023-05-05T15:24:49.474444Z",
     "iopub.status.idle": "2023-05-05T15:24:49.877004Z",
     "shell.execute_reply": "2023-05-05T15:24:49.875940Z"
    },
    "papermill": {
     "duration": 4.628065,
     "end_time": "2023-05-05T15:24:49.879404",
     "exception": false,
     "start_time": "2023-05-05T15:24:45.251339",
     "status": "completed"
    },
    "tags": []
   },
   "outputs": [
    {
     "data": {
      "image/png": "[encoded data removed]",
      "text/plain": [
       "<Figure size 640x480 with 1 Axes>"
      ]
     },
     "metadata": {},
     "output_type": "display_data"
    }
   ],
   "source": [
    "# RMSE scores\n",
    "\n",
    "names = list(all_RMSE_scores.keys())\n",
    "values = list(all_RMSE_scores.values())\n",
    "\n",
    "fig, axs = plt.subplots()\n",
    "\n",
    "axs.barh(names, values)\n",
    "\n",
    "plt.show()"
   ]
  },
  {
   "cell_type": "code",
   "execution_count": 69,
   "id": "165ff9e7",
   "metadata": {
    "execution": {
     "iopub.execute_input": "2023-05-05T15:24:58.321940Z",
     "iopub.status.busy": "2023-05-05T15:24:58.320669Z",
     "iopub.status.idle": "2023-05-05T15:24:58.683836Z",
     "shell.execute_reply": "2023-05-05T15:24:58.682144Z"
    },
    "papermill": {
     "duration": 4.607497,
     "end_time": "2023-05-05T15:24:58.686738",
     "exception": false,
     "start_time": "2023-05-05T15:24:54.079241",
     "status": "completed"
    },
    "tags": []
   },
   "outputs": [
    {
     "data": {
      "image/png": "[encoded data removed]",
      "text/plain": [
       "<Figure size 640x480 with 1 Axes>"
      ]
     },
     "metadata": {},
     "output_type": "display_data"
    }
   ],
   "source": [
    "# MSE scores\n",
    "\n",
    "names = list(all_MSE_scores.keys())\n",
    "values = list(all_MSE_scores.values())\n",
    "\n",
    "fig, axs = plt.subplots()\n",
    "\n",
    "axs.barh(names, values)\n",
    "\n",
    "plt.show()"
   ]
  },
  {
   "cell_type": "code",
   "execution_count": 70,
   "id": "202b016d",
   "metadata": {
    "execution": {
     "iopub.execute_input": "2023-05-05T15:25:07.245548Z",
     "iopub.status.busy": "2023-05-05T15:25:07.244370Z",
     "iopub.status.idle": "2023-05-05T15:25:07.601008Z",
     "shell.execute_reply": "2023-05-05T15:25:07.600076Z"
    },
    "papermill": {
     "duration": 4.571107,
     "end_time": "2023-05-05T15:25:07.603441",
     "exception": false,
     "start_time": "2023-05-05T15:25:03.032334",
     "status": "completed"
    },
    "tags": []
   },
   "outputs": [
    {
     "data": {
      "image/png": "[encoded data removed]",
      "text/plain": [
       "<Figure size 640x480 with 1 Axes>"
      ]
     },
     "metadata": {},
     "output_type": "display_data"
    }
   ],
   "source": [
    "# Pearsonr scores\n",
    "names = list(all_Pearsonr_scores.keys())\n",
    "values = list(all_Pearsonr_scores.values())\n",
    "\n",
    "fig, axs = plt.subplots()\n",
    "\n",
    "axs.barh(names, values)\n",
    "\n",
    "plt.show()"
   ]
  },
  {
   "cell_type": "code",
   "execution_count": 71,
   "id": "7f0d87d3",
   "metadata": {
    "execution": {
     "iopub.execute_input": "2023-05-05T15:25:16.208288Z",
     "iopub.status.busy": "2023-05-05T15:25:16.207521Z",
     "iopub.status.idle": "2023-05-05T15:25:16.569757Z",
     "shell.execute_reply": "2023-05-05T15:25:16.568425Z"
    },
    "papermill": {
     "duration": 4.56404,
     "end_time": "2023-05-05T15:25:16.572401",
     "exception": false,
     "start_time": "2023-05-05T15:25:12.008361",
     "status": "completed"
    },
    "tags": []
   },
   "outputs": [
    {
     "data": {
      "image/png": "[encoded data removed]",
      "text/plain": [
       "<Figure size 640x480 with 1 Axes>"
      ]
     },
     "metadata": {},
     "output_type": "display_data"
    }
   ],
   "source": [
    "# R2 scores\n",
    "names = list(all_R2_scores.keys())\n",
    "values = list(all_R2_scores.values())\n",
    "\n",
    "fig, axs = plt.subplots()\n",
    "\n",
    "axs.barh(names, values)\n",
    "\n",
    "plt.show()"
   ]
  },
  {
   "cell_type": "code",
   "execution_count": 72,
   "id": "826e5102",
   "metadata": {
    "execution": {
     "iopub.execute_input": "2023-05-05T15:25:25.068488Z",
     "iopub.status.busy": "2023-05-05T15:25:25.068046Z",
     "iopub.status.idle": "2023-05-05T15:25:25.074400Z",
     "shell.execute_reply": "2023-05-05T15:25:25.073237Z"
    },
    "papermill": {
     "duration": 4.28202,
     "end_time": "2023-05-05T15:25:25.076491",
     "exception": false,
     "start_time": "2023-05-05T15:25:20.794471",
     "status": "completed"
    },
    "tags": []
   },
   "outputs": [
    {
     "name": "stdout",
     "output_type": "stream",
     "text": [
      "{'lr_test': 2.3793378656467747, 'lr_train': 2.1726566992606924, 'lr_poly_test': 2.346019508512126, 'lr_poly_train': 2.1252526236123175, 'gbr_random_test': 2.278383065922343, 'gbr_random_train': 1.9848936859546928, 'gbr_optimize_test': 2.1717536153671304, 'gbr_optimize_train': 1.6064425486728664, 'xgb_test': 2.1548163840603545, 'xgb_train': 1.5604588573803828, 'svr_test': 2.5021382655743745, 'svr_train': 2.3013073398123516, 'MLP_simple_test': 2.496746977398353, 'MLP_simple_train': 2.2962788331066117, 'MLP_complex_test': 2.4967462404166896, 'MLP_complex_train': 2.296279959245936, 'DecisionTree_test': 2.294460670796737, 'DecisionTree_train': 1.9349831062722629, 'LSTM_normal_train': 2.2962966012446824, 'LSTM_normal_val': 2.5309642486448585, 'LSTM_normal_test': 2.4968508918238395, 'LSTM_time_series_train': 2.4477367009686, 'LSTM_time_series_val': 1.9666803897792287, 'LSTM_time_series_test': 3.1542856627517617, 'Random_forest_test': 2.122246599332213, 'Random_forest_train': 0.7975081076151432, 'IMERG': 4.311994887968752}\n",
      "{'lr_test': 5.66124867890055, 'lr_train': 4.720437132842367, 'lr_poly_test': 5.503807534319477, 'lr_poly_train': 4.516698714171039, 'gbr_random_test': 5.191029395081695, 'gbr_random_train': 3.9398029445428064, 'gbr_optimize_test': 4.716513765860203, 'gbr_optimize_train': 2.5806576621865744, 'xgb_test': 4.643233649014941, 'xgb_train': 2.4350318455768902, 'svr_test': 6.260695900051538, 'svr_train': 5.296015472274202, 'MLP_simple_test': 6.233745469147811, 'MLP_simple_train': 5.272896479373462, 'MLP_complex_test': 6.233741789034875, 'MLP_complex_train': 5.272901651234519, 'DecisionTree_test': 5.264549769833013, 'DecisionTree_train': 3.744159621559055, 'LSTM_normal_train': 5.27297808088788, 'LSTM_normal_val': 6.405780027918432, 'LSTM_normal_test': 6.234264376001502, 'LSTM_time_series_train': 5.991414957268646, 'LSTM_time_series_val': 3.867831755542179, 'LSTM_time_series_test': 9.949518042241321, 'Random_forest_test': 4.503930628377142, 'Random_forest_train': 0.6360191817118869, 'IMERG': 18.593299913868652}\n",
      "{'lr_test': 0.30469011294279863, 'lr_train': 0.323674925935557, 'lr_poly_test': 0.3423052110095021, 'lr_poly_train': 0.37869179682138515, 'gbr_random_test': 0.40901423536554166, 'gbr_random_train': 0.5144212609139267, 'gbr_optimize_test': 0.4934478464944214, 'gbr_optimize_train': 0.7345058898479274, 'xgb_test': 0.5069709910639246, 'xgb_train': 0.747725140951156, 'svr_test': 0.11134642590886537, 'svr_train': 0.12319828267758973, 'MLP_simple_test': nan, 'MLP_simple_train': nan, 'MLP_complex_test': nan, 'MLP_complex_train': nan, 'DecisionTree_test': 0.4013315088608382, 'DecisionTree_train': 0.538439634993989, 'LSTM_normal_train': nan, 'LSTM_normal_val': nan, 'LSTM_normal_test': nan, 'LSTM_time_series_train': -0.003996573703754675, 'LSTM_time_series_val': 0.0009025969286315608, 'LSTM_time_series_test': -0.0025934858589029895, 'Random_forest_test': 0.5312186551056548, 'Random_forest_train': 0.9543066131059729, 'IMERG': 0.23682710646234767}\n",
      "{'lr_test': 0.09183441625773925, 'lr_train': 0.10476545767938839, 'lr_poly_test': 0.11709079291301949, 'lr_poly_train': 0.14340460588948756, 'gbr_random_test': 0.16726600292655736, 'gbr_random_train': 0.25281333346189516, 'gbr_optimize_test': 0.24338680027164994, 'gbr_optimize_train': 0.5105762843402903, 'xgb_test': 0.2551422422008328, 'xgb_train': 0.5381943327569495, 'svr_test': -0.004327643810074111, 'svr_train': -0.00439341824036088, 'MLP_simple_test': -4.312474178425063e-06, 'MLP_simple_train': -8.88340895532913e-06, 'MLP_complex_test': -3.722118215865322e-06, 'MLP_complex_train': -9.864256392821957e-06, 'DecisionTree_test': 0.15547201933035393, 'DecisionTree_train': 0.28991724053246326, 'LSTM_normal_train': -2.4359199090051575e-05, 'LSTM_normal_val': -0.0003828619471331063, 'LSTM_normal_test': -8.75544182121768e-05, 'LSTM_time_series_train': -1.000734325851127e-05, 'LSTM_time_series_val': -0.0033131641518973076, 'LSTM_time_series_test': -0.0014628951934740897, 'Random_forest_test': 0.2774889392336075, 'Random_forest_train': 0.8793784717340107, 'IMERG': -2.3243848057502006}\n"
     ]
    }
   ],
   "source": [
    "# Print all\n",
    "print(all_RMSE_scores)\n",
    "print(all_MSE_scores)\n",
    "print(all_Pearsonr_scores)\n",
    "print(all_R2_scores)"
   ]
  },
  {
   "cell_type": "markdown",
   "id": "cebe85c5",
   "metadata": {
    "papermill": {
     "duration": 4.380035,
     "end_time": "2023-05-05T15:25:33.661877",
     "exception": false,
     "start_time": "2023-05-05T15:25:29.281842",
     "status": "completed"
    },
    "tags": []
   },
   "source": []
  },
  {
   "cell_type": "code",
   "execution_count": null,
   "id": "59b72cae",
   "metadata": {
    "papermill": {
     "duration": 4.379356,
     "end_time": "2023-05-05T15:25:42.255945",
     "exception": false,
     "start_time": "2023-05-05T15:25:37.876589",
     "status": "completed"
    },
    "tags": []
   },
   "outputs": [],
   "source": []
  }
 ],
 "metadata": {
  "kernelspec": {
   "display_name": "Python 3",
   "language": "python",
   "name": "python3"
  },
  "language_info": {
   "codemirror_mode": {
    "name": "ipython",
    "version": 3
   },
   "file_extension": ".py",
   "mimetype": "text/x-python",
   "name": "python",
   "nbconvert_exporter": "python",
   "pygments_lexer": "ipython3",
   "version": "3.7.12"
  },
  "papermill": {
   "default_parameters": {},
   "duration": 14645.527369,
   "end_time": "2023-05-05T15:25:49.541670",
   "environment_variables": {},
   "exception": null,
   "input_path": "__notebook__.ipynb",
   "output_path": "__notebook__.ipynb",
   "parameters": {},
   "start_time": "2023-05-05T11:21:44.014301",
   "version": "2.4.0"
  }
 },
 "nbformat": 4,
 "nbformat_minor": 5
}
